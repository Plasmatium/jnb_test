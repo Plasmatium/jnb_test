{
 "cells": [
  {
   "cell_type": "markdown",
   "metadata": {},
   "source": [
    "# Tools & Uitls"
   ]
  },
  {
   "cell_type": "markdown",
   "metadata": {},
   "source": [
    "## Make this file be able to import other .ipynb files"
   ]
  },
  {
   "cell_type": "code",
   "execution_count": 2,
   "metadata": {
    "ExecuteTime": {
     "end_time": "2016-05-16T16:26:56.493323",
     "start_time": "2016-05-16T16:26:56.380125"
    },
    "collapsed": true
   },
   "outputs": [],
   "source": [
    "from IMP import *\n",
    "from collections import OrderedDict"
   ]
  },
  {
   "cell_type": "code",
   "execution_count": 3,
   "metadata": {
    "ExecuteTime": {
     "end_time": "2016-05-16T16:26:56.875513",
     "start_time": "2016-05-16T16:26:56.859914"
    },
    "collapsed": true
   },
   "outputs": [],
   "source": [
    "import os\n",
    "import sys\n",
    "from hashlib import md5\n",
    "\n",
    "class PrintColorfulTraceBack(BaseException):\n",
    "    ''' This is just to print colorful trace_back and interrupt the function '''"
   ]
  },
  {
   "cell_type": "code",
   "execution_count": 4,
   "metadata": {
    "ExecuteTime": {
     "end_time": "2016-05-16T16:26:56.975311",
     "start_time": "2016-05-16T16:26:56.875513"
    },
    "collapsed": true
   },
   "outputs": [],
   "source": [
    "def get_md5_string(string):\n",
    "    return md5(string.encode()).hexdigest()"
   ]
  },
  {
   "cell_type": "code",
   "execution_count": 5,
   "metadata": {
    "ExecuteTime": {
     "end_time": "2016-05-16T16:26:57.093307",
     "start_time": "2016-05-16T16:26:56.979311"
    },
    "collapsed": true
   },
   "outputs": [],
   "source": [
    "def get_addr_port(addr_info):\n",
    "    linux = sys.platform.lower().startswith('linux')\n",
    "    try:\n",
    "        assert('@' in addr_info)        \n",
    "        addr, port = addr_info.split('@')\n",
    "        addrlist = addr.split('.')\n",
    "        alen = len(addrlist)\n",
    "        assert(alen == 1 or alen == 4)\n",
    "        \n",
    "        if alen == 1:\n",
    "            # this is serial port, address 0 is broadcast channel, do not use it\n",
    "            a = int(addrlist[0])\n",
    "            assert(0 < a < 256)\n",
    "            port = port.lower()\n",
    "            assert(len(port) > 3)\n",
    "            if linux:\n",
    "                assert(port.startswith('tty'))\n",
    "            else:\n",
    "                assert(port.startswith('com'))\n",
    "        else:  \n",
    "            # this is TCP port\n",
    "            for x in addrlist:\n",
    "                assert(x.isnumeric())\n",
    "                x = int(x)\n",
    "                assert(0 <= x < 256)\n",
    "            assert(port.isnumeric())\n",
    "    except Exception as e:\n",
    "        print('illegal argument: addr_info')\n",
    "        print('Usage: 192.168.1.10@8080 or 10@COM6')\n",
    "        print('NOT %s'%addr_info)\n",
    "        raise(PrintColorfulTraceBack) # this is ugly, but to print colorful trace_back and interrupt the function\n",
    "    \n",
    "    return addr, port"
   ]
  },
  {
   "cell_type": "code",
   "execution_count": 6,
   "metadata": {
    "ExecuteTime": {
     "end_time": "2016-05-16T16:26:57.206105",
     "start_time": "2016-05-16T16:26:57.093307"
    },
    "collapsed": true
   },
   "outputs": [],
   "source": [
    "def get_regs_list(regs_list):\n",
    "    rslt = []\n",
    "    regs_list = regs_list.replace(' ', '')\n",
    "    try:\n",
    "        groups = regs_list.split(',')\n",
    "        last = -1\n",
    "        for unit in groups:\n",
    "            if '-' not in unit:\n",
    "                # single num\n",
    "                assert(unit.isnumeric())\n",
    "                current = int(unit)\n",
    "                assert(current > last)\n",
    "                rslt.append(current)\n",
    "                last = current\n",
    "            else:\n",
    "                # like 10-20\n",
    "                start, end = unit.split('-')\n",
    "                start = int(start); end = int(end)\n",
    "                assert(start > last)\n",
    "                rslt += list(range(start, end+1)) # range(2,5) is [2,3,4]\n",
    "                last = end\n",
    "    except Exception as e:\n",
    "        print('illegal argument: regs_list')\n",
    "        print('Usage: 10-20,25, 30 - 40')\n",
    "        print('NOT %s'%regs_list)\n",
    "        raise(PrintColorfulTraceBack) # this is ugly, but to print colorful trace_back and interrupt the function\n",
    "    \n",
    "    return rslt"
   ]
  },
  {
   "cell_type": "code",
   "execution_count": 7,
   "metadata": {
    "ExecuteTime": {
     "end_time": "2016-05-16T16:26:57.332101",
     "start_time": "2016-05-16T16:26:57.206105"
    },
    "collapsed": true
   },
   "outputs": [],
   "source": [
    "def get_reg_names(reg_names):\n",
    "    rslt = map(lambda x: x.strip(), reg_names.split(','))\n",
    "    return list(rslt)"
   ]
  },
  {
   "cell_type": "code",
   "execution_count": 10,
   "metadata": {
    "ExecuteTime": {
     "end_time": "2016-05-16T16:30:33.373162",
     "start_time": "2016-05-16T16:30:33.367162"
    },
    "collapsed": true
   },
   "outputs": [],
   "source": [
    "def sort_dict(d):\n",
    "    rslt = OrderedDict()\n",
    "    for k in sorted(d.keys()):\n",
    "        rslt.update({k: d[k]})\n",
    "    return rslt"
   ]
  },
  {
   "cell_type": "code",
   "execution_count": 9,
   "metadata": {
    "ExecuteTime": {
     "end_time": "2016-05-16T16:26:57.570890",
     "start_time": "2016-05-16T16:26:57.442696"
    },
    "collapsed": true
   },
   "outputs": [],
   "source": [
    "class cached_property(object):\n",
    "    ''' A property that is only computed once per instance and then replaces\n",
    "        itself with an ordinary attribute. Deleting the attribute resets the\n",
    "        property. '''\n",
    "        \n",
    "    def __init__(self, func):\n",
    "        self.__doc__ = func.__doc__\n",
    "        self.func = func\n",
    "    \n",
    "    def __get__(self, obj, cls):\n",
    "        if obj is None: return self\n",
    "        value = obj.__dict__[self.func.__name__] = self.func(obj)\n",
    "        return value"
   ]
  }
 ],
 "metadata": {
  "kernelspec": {
   "display_name": "Python 3",
   "language": "python",
   "name": "python3"
  },
  "language_info": {
   "codemirror_mode": {
    "name": "ipython",
    "version": 3
   },
   "file_extension": ".py",
   "mimetype": "text/x-python",
   "name": "python",
   "nbconvert_exporter": "python",
   "pygments_lexer": "ipython3",
   "version": "3.4.3"
  }
 },
 "nbformat": 4,
 "nbformat_minor": 0
}
