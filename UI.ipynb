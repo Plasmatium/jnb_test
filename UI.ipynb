{
 "cells": [
  {
   "cell_type": "code",
   "execution_count": 3,
   "metadata": {
    "ExecuteTime": {
     "end_time": "2016-05-30T22:38:43.385555",
     "start_time": "2016-05-30T22:38:43.137012"
    },
    "collapsed": false
   },
   "outputs": [
    {
     "data": {
      "text/plain": [
       "{'ch1_20': True,\n",
       " 'ch2_21': True,\n",
       " 'ch3_22': True,\n",
       " 'ch4_23': True,\n",
       " 'ch5_50': True}"
      ]
     },
     "metadata": {},
     "output_type": "display_data"
    }
   ],
   "source": [
    "%matplotlib notebook\n",
    "from IMP import *\n",
    "from ipywidgets import *\n",
    "from tools import *\n",
    "from IPython.display import display, HTML\n",
    "\n",
    "import matplotlib.pyplot as plt \n",
    "import database as db\n",
    "import numpy as np\n",
    "import pandas as pd\n",
    "\n",
    "\n",
    "plt.style.use('ggplot')\n",
    "\n",
    "#def show_all():\n",
    "s = db.Config.select()\n",
    "data_list = [d._data for d in s]\n",
    "df = pd.DataFrame.from_dict(data_list)\n",
    "df.index = df.id\n",
    "del df['id']\n",
    "\n",
    "def display_config(sn, sel):\n",
    "    display(HTML('<h1>Configuration Shown as below:</h1>'))\n",
    "    display(df)\n",
    "\n",
    "def display_selected_config(sn, sel):\n",
    "    sel_config = df[df.sn==sn]\n",
    "    display(HTML('<h1>Selected configure:</h1>'))\n",
    "    display(sel_config)\n",
    "    \n",
    "def display_selected_log(sn, sel):\n",
    "    conf = db.Config.select().where(db.Config.sn==sn)[0]\n",
    "    log = conf.get_related_log()\n",
    "\n",
    "    selector = [getattr(log, attr) for attr in sel]\n",
    "    log_df = pd.DataFrame.from_dict([d._data for d in log.select(*selector)])\n",
    "    display(HTML('<h1>Selected log shown as below:</h1>'))\n",
    "    display(log_df)    \n",
    "\n",
    "def display_content(sn, sel):\n",
    "    display_config(sn, sel)\n",
    "    display_selected_config(sn, sel)\n",
    "    display_selected_log(sn, sel)\n",
    "\n",
    "def draw(data):        \n",
    "    fig, ax = plt.subplots()\n",
    "    ax.plot(data)\n",
    "    plt.show()\n",
    "\n",
    "sn_sel = Dropdown(options=list(df.sn.values))\n",
    "ch_sel = interactive(lambda **x:x, **{'NA0': False, 'NA1': False})\n",
    "\n",
    "\n",
    "def ui_config():    \n",
    "    sn = sn_sel.value\n",
    "    conf = db.Config.select().where(db.Config.sn==sn)[0]\n",
    "    reg_names = get_reg_names(conf.reg_names)\n",
    "    regs_list = get_regs_list(conf.regs_list)\n",
    "    channels = ['_'.join([rn,str(rl)]) for rn, rl in zip(reg_names, regs_list)]\n",
    "    channel_check_list = {ch: True for ch in channels}\n",
    "    \n",
    "    global ch_sel\n",
    "    ch_sel.close();del ch_sel\n",
    "    ch_sel = interactive(lambda **argv: argv, **channel_check_list)    \n",
    "    \n",
    "    display(sn_sel, ch_sel)\n",
    "\n",
    "ui = interactive(ui_config, SN=sn_sel, CH=ch_sel)\n",
    "display(ui)\n",
    "'''\n",
    "cklist = None\n",
    "def update_ui(argv):\n",
    "    print\n",
    "    global cklist\n",
    "    if cklist:\n",
    "        cklist.close()\n",
    "    if argv==None:\n",
    "        sn = df.sn.values[0]\n",
    "    else:\n",
    "        sn = argv['new']\n",
    "\n",
    "    def selection(**checklist):\n",
    "        sel = [ch for ch in checklist if checklist[ch]==True]\n",
    "        display_content(sn, sel)\n",
    "\n",
    "    conf = db.Config.select().where(db.Config.sn==sn)[0]\n",
    "    reg_names = get_reg_names(conf.reg_names)\n",
    "    regs_list = get_regs_list(conf.regs_list)\n",
    "    channels = ['_'.join([rn,str(rl)]) for rn, rl in zip(reg_names, regs_list)]\n",
    "    channel_check_list = {ch: True for ch in channels}\n",
    "    cklist = interactive(selection, **channel_check_list)\n",
    "    display(cklist)\n",
    "'''\n",
    "None"
   ]
  },
  {
   "cell_type": "code",
   "execution_count": 10,
   "metadata": {
    "ExecuteTime": {
     "end_time": "2016-05-30T22:06:24.723755",
     "start_time": "2016-05-30T22:06:24.718392"
    },
    "collapsed": false
   },
   "outputs": [
    {
     "data": {
      "text/plain": [
       "{}"
      ]
     },
     "execution_count": 10,
     "metadata": {},
     "output_type": "execute_result"
    }
   ],
   "source": [
    "ch_sel.kwargs"
   ]
  },
  {
   "cell_type": "code",
   "execution_count": null,
   "metadata": {
    "collapsed": true
   },
   "outputs": [],
   "source": []
  }
 ],
 "metadata": {
  "kernelspec": {
   "display_name": "Python 3",
   "language": "python",
   "name": "python3"
  },
  "language_info": {
   "codemirror_mode": {
    "name": "ipython",
    "version": 3
   },
   "file_extension": ".py",
   "mimetype": "text/x-python",
   "name": "python",
   "nbconvert_exporter": "python",
   "pygments_lexer": "ipython3",
   "version": "3.5.1+"
  },
  "widgets": {
   "state": {
    "00b294803fa74484b4398f7ed82fb94c": {
     "views": []
    },
    "01b2b3e9d8774ab1a97f6bf1f29a85ce": {
     "views": []
    },
    "036addc1b4764a2bab2eb8281e729be4": {
     "views": []
    },
    "044c3c7738f347d6a88dabc90b9cf027": {
     "views": []
    },
    "04560f1ef52548479dcb1986cee56518": {
     "views": []
    },
    "0475f7c01de54b9396ddbf0af325f1b2": {
     "views": []
    },
    "065489932b30497682ed009340c09480": {
     "views": []
    },
    "07a53f0d589e43c9806ae7f0de7ef36d": {
     "views": [
      {
       "cell_index": 1
      },
      {
       "cell_index": 1
      }
     ]
    },
    "082f15ff5c3148f7b7916abd89e785b6": {
     "views": []
    },
    "0889bb4f120947c786103604932910cd": {
     "views": []
    },
    "0a15ad323bb04d7e8b37f4dc50cfe508": {
     "views": []
    },
    "0a675c62f3bc4fe096f0eb13d776972c": {
     "views": []
    },
    "0acc42b61a4e4d7ba992685552fd4013": {
     "views": []
    },
    "0bf9fcf1dffa46e9896a3d7c0a2d296b": {
     "views": []
    },
    "0d94e7c13f074f2c802248009c5b2a2b": {
     "views": []
    },
    "0e68dc12bd4a459199357b6cb76b249c": {
     "views": []
    },
    "0eab8264c64f4931b2e0f4d6ae5b32de": {
     "views": []
    },
    "10659d6d9e4246a0846153819cfe92bd": {
     "views": []
    },
    "111435a265f54025b1aace716e71e6fe": {
     "views": []
    },
    "12a7ee934f6a4af58d035c21daf337a6": {
     "views": []
    },
    "132b52f578034066a42d13561aa09f3e": {
     "views": []
    },
    "165ae2473b0f4863be34500f8b0492ad": {
     "views": []
    },
    "165c7148092c450ca588c855244dc561": {
     "views": []
    },
    "1710349603634681a47ebbbbe3755db5": {
     "views": []
    },
    "187c4cc213ce461fb86af441b9bf7daf": {
     "views": []
    },
    "191725e2627f41bca6445e57f3efc2d0": {
     "views": []
    },
    "19a329fc32d542cbb82fb6f68995d2ab": {
     "views": [
      {
       "cell_index": 0
      }
     ]
    },
    "1aa89224d947403b9a92e1ef24c44442": {
     "views": []
    },
    "1c7a54f4145e4145a04e5859360ff743": {
     "views": []
    },
    "1d7f44e29cb040a39897e410b4e5e053": {
     "views": [
      {
       "cell_index": 0
      }
     ]
    },
    "1f466420809f46c781e80994e07228c9": {
     "views": []
    },
    "1f53416b78a34beb8c91f330c0acfd99": {
     "views": []
    },
    "1f7fe4c4d04042b4a151fc723dbfbccb": {
     "views": []
    },
    "1f9b141a395443cfb4afc3dbe8d291d7": {
     "views": [
      {
       "cell_index": 0
      }
     ]
    },
    "2111524263454cec9bc23de8d2453118": {
     "views": []
    },
    "22cbee1520a74874bbcf5122cb735778": {
     "views": []
    },
    "23e9c7d61f9c43299991e657c99a8731": {
     "views": []
    },
    "24081e3de0b743229323e6528fe13915": {
     "views": []
    },
    "2430f66797a94e9d8aa842e846931e49": {
     "views": []
    },
    "2459dc5c1b2d434898b3feab0840d8b9": {
     "views": []
    },
    "24d97695a1604f23a9d36c076b1c571f": {
     "views": []
    },
    "272240fd3f0f4a37be55d9a6444526f9": {
     "views": []
    },
    "27c4b12a53994c498dd0c1e550bbb04b": {
     "views": []
    },
    "286edebeb70a4871943bfa1bed6e53f5": {
     "views": []
    },
    "28ef8c4dd50b4af698e686792be42744": {
     "views": [
      {
       "cell_index": 0
      }
     ]
    },
    "297f36570efe464bb7e4d50a612d33ae": {
     "views": []
    },
    "2a990968746548119751e91688a9315f": {
     "views": []
    },
    "2afae8c1956442daa9ed7c3d6055fe3d": {
     "views": []
    },
    "2b662c5213fc4fd5b94a5dd07f4d3cd6": {
     "views": []
    },
    "2bcfef0e7db24cacbd1b793305ed5ac9": {
     "views": []
    },
    "2c1d404f7a6843c5b72cbab8e22d95ad": {
     "views": []
    },
    "2c8bccf7e03640c39122926a761f6701": {
     "views": []
    },
    "2d387bbcf67c4f4ca8872ee9de883224": {
     "views": []
    },
    "2f9e1886fa7940f6a7810b0957d5613c": {
     "views": [
      {
       "cell_index": 0
      }
     ]
    },
    "2fef205b97934764a2f17e189db3faf5": {
     "views": []
    },
    "30137f4093a94c30bcbb41a4a178cc00": {
     "views": []
    },
    "30b97e5915514bb3a24a9f3406dab7f6": {
     "views": []
    },
    "326cee5de374475c8b5502a5f948cf8a": {
     "views": []
    },
    "332149508e884611acb4658099cadb95": {
     "views": [
      {
       "cell_index": 0
      }
     ]
    },
    "34c3c905168147c1aacfa44bd2a573a7": {
     "views": []
    },
    "34db7642e03744edaa8ff03087b47519": {
     "views": []
    },
    "363f70df9b3f432c9d2319b78b6f548c": {
     "views": []
    },
    "378b07f1ff8d42a5b628b4332844522f": {
     "views": []
    },
    "379867574eb241168f42a2cd77906d26": {
     "views": []
    },
    "393fe1cc557b4b73801ce89c92fae8aa": {
     "views": []
    },
    "3966c1656ade4be9bb51dc0e38dc4f03": {
     "views": []
    },
    "39abbfa634384600a7057714564e3764": {
     "views": []
    },
    "3b8d7e24fd124644a9c259df1bcabc28": {
     "views": []
    },
    "3cc32ccd1e134efba40d6748539259be": {
     "views": []
    },
    "3cc570ba840e453da221f64474887b63": {
     "views": []
    },
    "3d8da2a7110147fdb8d3c9c92b0c3d8c": {
     "views": []
    },
    "41ad79ed096d413b80eac9c1305a0807": {
     "views": []
    },
    "42c6cadf4cd240188ccfc0ae032ee6c3": {
     "views": []
    },
    "4328ad337b244f0898c58d7d642f4092": {
     "views": []
    },
    "444e9e6dc64f4e1b874c88c9194ac41e": {
     "views": []
    },
    "4462bfd08d9d4eaaa24f83c10511f8f3": {
     "views": []
    },
    "44a92ec83ac9448d8790dfc4158df629": {
     "views": []
    },
    "467f2733c43049f98d991de00c70574d": {
     "views": []
    },
    "46d9960bed7242aeb6e904597a19830d": {
     "views": []
    },
    "4704648a0091482c8a2b759a70268551": {
     "views": []
    },
    "4873a79d33514bafa54ecc792c2e1a02": {
     "views": []
    },
    "4ae0c491f0cf47f390414462b38edd0a": {
     "views": []
    },
    "4b378409764b45e7b1b8adfb38b2e58e": {
     "views": []
    },
    "4b8ffa76938541e6bb9dfc7344515168": {
     "views": []
    },
    "4bc2ca2f471640379bfbbf560d39c260": {
     "views": []
    },
    "4c0339d9242548e1adf4ac0560a3e071": {
     "views": []
    },
    "4d9f6edd02a34af0a6ebd61dd176426f": {
     "views": []
    },
    "4dc559b0fe99467fac4c0d99e882a45b": {
     "views": []
    },
    "4ea6c6a9a121469cab895577aba35801": {
     "views": []
    },
    "5094094b5c4941c2b6b0976b00b153f5": {
     "views": []
    },
    "52051a8ba1644e9f9b466141e184aa81": {
     "views": []
    },
    "526f797225e248448be4662c457c863f": {
     "views": []
    },
    "529fb946f2de4c70ad064bfb2e8ee217": {
     "views": []
    },
    "53c351f169d3418ab144bd755ca7bb4e": {
     "views": []
    },
    "53d8209f2b6347039e179775a85a0d4b": {
     "views": []
    },
    "54fd42a93f80468da5e14ddcdda8e3db": {
     "views": []
    },
    "556d45a17ddc42769df6862b2ad023fb": {
     "views": []
    },
    "55a372c7598f423eadfc4e1f8d8cb52b": {
     "views": []
    },
    "5643deb804a54fdaa56b239b59dfc7f3": {
     "views": []
    },
    "5666207308434d4ea99732ef26b5856b": {
     "views": []
    },
    "59a4af4273df4a2ab09d72dd53bb2202": {
     "views": []
    },
    "5abd9e7d196a46f793b5ece3836498e8": {
     "views": []
    },
    "5b08e6ef04bb40bf9ebb0a1f75bc4693": {
     "views": []
    },
    "5c69e333297d4cddaddc0797eae3a27f": {
     "views": []
    },
    "5ca32fce5dcf4297a14bab33d165e237": {
     "views": []
    },
    "5db2b5d71d584234a7f98e5725a34f69": {
     "views": []
    },
    "5e9f26d800004219bff0f6eb8ae3a3ff": {
     "views": []
    },
    "607e9a41ed4e4c6fb532a63ca504c607": {
     "views": []
    },
    "651537c2c0a9456ea64461d75645caa4": {
     "views": []
    },
    "6596f61bd67e45c3952dc5b8fa7dfe48": {
     "views": []
    },
    "66bb6a4a3c8d4f4c93b8c22d76acfad7": {
     "views": []
    },
    "66e91038e0144e218b20fa0771b55f17": {
     "views": []
    },
    "66fb0ab9bb7b44f686ed1ec6471ace65": {
     "views": []
    },
    "6726ff387c3a4225a86a505ba14f920e": {
     "views": []
    },
    "67816b67a2804c87bb3a929d818e00fb": {
     "views": []
    },
    "67a14a366c3e44bbb77f6aac47a5c76b": {
     "views": []
    },
    "67f5e363c49e47e599eaffa0128f99dc": {
     "views": []
    },
    "68a1ebcdde254dc49872eaa243caec72": {
     "views": []
    },
    "68ac900ec5f642ffa40d882d7242a494": {
     "views": []
    },
    "68b959fc37074917804650fbbb0103a4": {
     "views": []
    },
    "6a2bb9fe731d4cf2a2004ed2f8ae7827": {
     "views": []
    },
    "6a55e9199cd445418280ee5ca8137aaa": {
     "views": []
    },
    "6a67ed92fe9546f2a6f06298e1ecfd90": {
     "views": []
    },
    "6d080651ec45444b88218e7aad012e50": {
     "views": []
    },
    "6da7f80ecb41470a88832e7b2dceefa6": {
     "views": []
    },
    "6fb52f9b7cbd4024bb4ee1fa886a79df": {
     "views": []
    },
    "7050461ddf074fc7bc015dc0e6d91b09": {
     "views": []
    },
    "70aba9afdbaa4559bab03457142bb2f1": {
     "views": []
    },
    "70f32f6b032f40eca1a8486b583e9235": {
     "views": []
    },
    "71d179270ce049b1a4a591f4d7e6ec89": {
     "views": []
    },
    "730d380a951246e1a45494d550d2a7d3": {
     "views": []
    },
    "735551bdf6a747b7bcd7d962de6dd8a9": {
     "views": []
    },
    "75f8828caf7a488e966a088a601819aa": {
     "views": []
    },
    "761e688b44d744818bd89a5c1265b10e": {
     "views": []
    },
    "76d41032807b458498a5a8d74da4d92c": {
     "views": []
    },
    "77923d2145bb42118daabfce5a52ad55": {
     "views": []
    },
    "77d395c580794b42ac75e9b3e389327a": {
     "views": []
    },
    "782dd30f06a44e9487d0c8dbfbe90cd7": {
     "views": []
    },
    "783517092ac443a0a42c5c5899efb194": {
     "views": []
    },
    "7889df3f9edf4a2b936cc038024d07b2": {
     "views": []
    },
    "78ab22c78edc424799612d1c67dbd9ca": {
     "views": []
    },
    "78d2a603df834f5e9ed4821ee94daa09": {
     "views": []
    },
    "793fec03e7cc4019a258cc24e97aa9a8": {
     "views": []
    },
    "7a72053cbd29413c8349b26adb8f7713": {
     "views": []
    },
    "7b66d643016442bbb0d83306816ebca4": {
     "views": []
    },
    "7c5f559c11e5449db773230732a326bd": {
     "views": []
    },
    "7e8e9e7132a149b88e65c2c2df9b2ec6": {
     "views": []
    },
    "7f4cb1a6349e4a07a66a07f74f7d7ab0": {
     "views": []
    },
    "7f64aba937024100bb473d2f43b00c31": {
     "views": []
    },
    "7fc2e9889277426da461d7543e662c9b": {
     "views": []
    },
    "7ff443fa7e214bfbb551f76755203f5c": {
     "views": []
    },
    "81716826c9ea4ebc968eba9f145a57be": {
     "views": []
    },
    "8450c5b6483f45758fd33dd75087a255": {
     "views": []
    },
    "84753f2e82b349f3873e2f713f570f5d": {
     "views": [
      {
       "cell_index": 0
      }
     ]
    },
    "856d0d9ac3f644fb8d04131f42e53513": {
     "views": []
    },
    "85ee8d3c00a74f3e98edd93c4c47575b": {
     "views": []
    },
    "86dc3482a5124fa38aab11405014b3bc": {
     "views": [
      {
       "cell_index": 0
      }
     ]
    },
    "873eea54fd58402c9662a9cb69e01c5c": {
     "views": []
    },
    "886de2788f4a424bb46717d0265c282a": {
     "views": [
      {
       "cell_index": 0
      }
     ]
    },
    "887747302b9b453f900294bcdef1eecd": {
     "views": []
    },
    "88b367bb61f54cff908c7aa26b01d375": {
     "views": []
    },
    "88ebfc82d4d94da5984af2aa0dd30ac8": {
     "views": []
    },
    "89155e19564f4470bfb046a5a405772d": {
     "views": []
    },
    "8c7a41d4e2ff4013a6905afbb181177a": {
     "views": []
    },
    "8c8121f27c17424288c413ed89bd5df5": {
     "views": []
    },
    "8dbd79a735a54475b701a27740736781": {
     "views": []
    },
    "8dcf679e7df54a64b827d8afebd99bfa": {
     "views": []
    },
    "8f92b08b43f14f31a07159f8da85a735": {
     "views": []
    },
    "8f988cc435a0442b904f572a4f9e56f3": {
     "views": []
    },
    "90e4fab33b794349867c40c525551716": {
     "views": []
    },
    "90e82ccc75f34a6582462efc7a0b8a9c": {
     "views": []
    },
    "92b31d7fc21443d2a47b5a9cbe80919f": {
     "views": []
    },
    "938812de01004fc699895c1c27d7402c": {
     "views": []
    },
    "93c3b2581bac4943b918cf5367070379": {
     "views": []
    },
    "93cb26325ab740ec920de60f42e212ab": {
     "views": []
    },
    "96107e9765f84b708e30c40f8ad0dfd1": {
     "views": []
    },
    "96d0a2d1bb134c1d837b5e3a295e20d5": {
     "views": []
    },
    "98cad3ea3235447ea667911657024a96": {
     "views": []
    },
    "9984b479a29c4f679b4537bf990acf8e": {
     "views": []
    },
    "9dc988f2e8584670a29f7fd2e95045f4": {
     "views": []
    },
    "9ed3464cfe1e4eb58330c92fc52031cd": {
     "views": []
    },
    "9f78078944784c16a8e16fe2d1541ccd": {
     "views": []
    },
    "9f835d2010a8426bbc1ff6b3f7bb03bc": {
     "views": []
    },
    "a0eba8122c8a4935b66310c4d87fab3b": {
     "views": []
    },
    "a1e145b1f0234f4a916b4ccc029d5448": {
     "views": []
    },
    "a3f3123fe66b4c95aa595b6a3f14ebd6": {
     "views": []
    },
    "a44a55e6fc6848f3af841460cbbc9f6c": {
     "views": []
    },
    "a64391867eb248699f8334e70ea6e619": {
     "views": []
    },
    "a6440a098a594df38962f1c155ca7080": {
     "views": []
    },
    "a7215ab83d5242fbb7350cc416692130": {
     "views": [
      {
       "cell_index": 0
      }
     ]
    },
    "a8320c7ea31748c39bc5a28817800f01": {
     "views": [
      {
       "cell_index": 0
      }
     ]
    },
    "a9bf58836c744f6395ddbfa7c5978370": {
     "views": []
    },
    "aa9f216bd5094822925c268f18e776a5": {
     "views": []
    },
    "ac47908c747d4ef5a6729da26afe4d11": {
     "views": []
    },
    "ad03b492426144378fc8c2ba561641e0": {
     "views": []
    },
    "ad1b01df52e14dfcad373c95e9594395": {
     "views": []
    },
    "ad650af0653241a8a34c2933f293a9a4": {
     "views": []
    },
    "ad8ce7d1f62843648ef4d6902af7d0e9": {
     "views": []
    },
    "afade3a4b9c54f89a08b1032c0d1b302": {
     "views": []
    },
    "b02a311475384e508a54d67ecae73327": {
     "views": []
    },
    "b04876494a5447eba71e70d9a421aa5e": {
     "views": []
    },
    "b106d2a420b1458394c4ac93adcc2775": {
     "views": []
    },
    "b112272c189f43df9eacc2f6d3ea7f41": {
     "views": []
    },
    "b12854db5c4d4a86ae44189a99c062b6": {
     "views": []
    },
    "b22c7843cae04364a563117c80e56068": {
     "views": []
    },
    "b29311d73db54b9f9f30859ac200082a": {
     "views": []
    },
    "b32f6da984164ddc951357c8f100e197": {
     "views": []
    },
    "b3addbaa53a54915892afee9cc860894": {
     "views": []
    },
    "b5e8cce1a3de49ffbdf047fa76368c91": {
     "views": []
    },
    "b5ebb28bf9c841348b3914db23d25291": {
     "views": []
    },
    "b73802bf94e148a28121c7703d5bbcaa": {
     "views": []
    },
    "b78253081a62452c910a39e65bd94d07": {
     "views": []
    },
    "b799857cb1044852ada5d7fc21e07a99": {
     "views": []
    },
    "b7bbe0d6cadc40c9bfcac5137e41d7aa": {
     "views": []
    },
    "b8b6f121cf184f7a971ce2a10d1f6f21": {
     "views": []
    },
    "b8d42931830d466db538332227227f97": {
     "views": []
    },
    "ba957513880f459391779634d0e09254": {
     "views": []
    },
    "baa606f4a81a4d17a2acc4b9846197d9": {
     "views": []
    },
    "bab73bffd7a54d7c93209fb16417c074": {
     "views": []
    },
    "baede42c92c4413a90c690baf273afa0": {
     "views": []
    },
    "bf086e0fe7c941aeaada1c440dd907a6": {
     "views": []
    },
    "bf789bf206904ee6b229b1ac04d0d03a": {
     "views": []
    },
    "c053e7441dde43e0aeca436b196fe97f": {
     "views": []
    },
    "c0c4438a7ccf4282a724d96662faff5c": {
     "views": []
    },
    "c23fc7f534b445a9b95a6223c808c1ff": {
     "views": []
    },
    "c2a42a43b0c24cf593b90d7f9dc63ec8": {
     "views": []
    },
    "c314b792b1774ac3b571acf3a558f1b9": {
     "views": []
    },
    "c41d7fb956884bf4a9fce396a0a319f5": {
     "views": []
    },
    "c429c300cb85490e9d7295a4d313305f": {
     "views": []
    },
    "c4953394108b49b2ad92d66069d3513c": {
     "views": []
    },
    "c4a48b4115724a25b1f8828feaa5e787": {
     "views": []
    },
    "c51c0f4c25dd469a892650a8505da99a": {
     "views": []
    },
    "c56daa7488ab43b98c922cc7cb4c0383": {
     "views": []
    },
    "c599a7e373da467fa6dba33233a283f8": {
     "views": []
    },
    "c6184c3029984541899503f67463ad1f": {
     "views": []
    },
    "c77234adfb4f41b080dddcd5292a085d": {
     "views": []
    },
    "c8314e9d68f14a6db7ab75ae4dd51e43": {
     "views": []
    },
    "c8944c261f444296beb8dde1aa12389e": {
     "views": []
    },
    "ca0a945689914843a95d707f1bcba799": {
     "views": []
    },
    "cb88551152d343feb198ade4f018d644": {
     "views": []
    },
    "cc980a2da9c544a78774be3244d05bc2": {
     "views": []
    },
    "cd123fdc3f90430d8cd072d602912df1": {
     "views": []
    },
    "cd66eeaac5d4427685cf34a37eb53c40": {
     "views": []
    },
    "cd793991b04a4dbc89dbb18c879c7c5d": {
     "views": []
    },
    "cdf2144037464619881e13ececdbafa7": {
     "views": []
    },
    "ceb5bf073a7e4f20b8115e1bc3f735df": {
     "views": []
    },
    "d024de9bb6944931a085d625f59e228a": {
     "views": []
    },
    "d0c16a5adc2b4eb1b9c7a829a5d7bea8": {
     "views": []
    },
    "d1158dd20e174a33aad3afbbff07f9f2": {
     "views": []
    },
    "d11a21e19ed94f259a746e64e158ec9e": {
     "views": []
    },
    "d29c962402414a49b96fc16b31babbf6": {
     "views": []
    },
    "d34cc912d6764077ac32712c27a26a1a": {
     "views": []
    },
    "d355416c97464b12934aa264302df1cf": {
     "views": [
      {
       "cell_index": 0
      },
      {
       "cell_index": 0
      },
      {
       "cell_index": 0
      }
     ]
    },
    "d45e212776b047b6b98753664ccbf21c": {
     "views": []
    },
    "d515676ccb8c4dccad7212d2bee8f3b4": {
     "views": []
    },
    "d6c9e0b50a6e404dbfcafad3828783b6": {
     "views": []
    },
    "d6d7c46df97142c181b30b94a31b6ec7": {
     "views": []
    },
    "d7f0b5c3fa954e91a8e9d56c9596fa7a": {
     "views": []
    },
    "d856e7a6d78c4606a941da44c0396cf6": {
     "views": []
    },
    "d8e28799ca264ca58f7ad7a262e829c1": {
     "views": []
    },
    "d98986e60a3b45bea16d3b8d853f3d36": {
     "views": []
    },
    "daa868a5e63b4546a50964cf33701e90": {
     "views": []
    },
    "dce13c1f108c46e3a512e72d5389ca24": {
     "views": []
    },
    "dce57fe7602b48ce850f7a8164a8375d": {
     "views": []
    },
    "dd815ba0c56d4b279b539f47aa341b66": {
     "views": [
      {
       "cell_index": 0
      }
     ]
    },
    "e02ca84fb61e43cc8440922a8a735c28": {
     "views": []
    },
    "e187684574864daaa33306ff93ef68fa": {
     "views": []
    },
    "e1c6f9c46c024372ad7a8087bf28bd33": {
     "views": []
    },
    "e220fac71ac14526a65013901a37826d": {
     "views": []
    },
    "e4017e8658de442497518708ea199c9d": {
     "views": []
    },
    "e40685030f2440fda33ccc184bcadb8c": {
     "views": []
    },
    "e414ca23799f4fbaa3f82fdfaf393373": {
     "views": []
    },
    "e4426f9965f24e89913f3a8b1855d4be": {
     "views": []
    },
    "e531005fd3ce46448f66710b2998e8aa": {
     "views": []
    },
    "e5d8e3d4da484137a255a57bb36b5f3f": {
     "views": []
    },
    "e638e1dc28924bb78636d67da684a6d9": {
     "views": []
    },
    "e67c8225fcdc48fc8ad20a7041ae7bb4": {
     "views": []
    },
    "e79983e78c9c4887a5b4d1a508b65f29": {
     "views": []
    },
    "e98d04214f974b439f914a42fc83d412": {
     "views": []
    },
    "ebabbcd1013c4512ac805260578d01ff": {
     "views": []
    },
    "ebda11c948d14f0ab015b605f4c54e6a": {
     "views": []
    },
    "ed71f38b39ea4ea2819ec4182af6f406": {
     "views": []
    },
    "eee3064763a241f08bd65138d6fd8771": {
     "views": []
    },
    "eefc31a2efe4436789112d92687c4c60": {
     "views": []
    },
    "ef1bf6e6b6b04418b01208a3206f8456": {
     "views": []
    },
    "f074b9dfcdc4480c9e89e5031c8274dc": {
     "views": []
    },
    "f08ee7fcd9f24faa939bd88754d4af8d": {
     "views": []
    },
    "f1da19289b17467a9f6948385a548ef0": {
     "views": []
    },
    "f35707db77614c598ccc0e856e0f6678": {
     "views": []
    },
    "f7769435c7af4236a7d379b52f5f47f0": {
     "views": []
    },
    "f8dd4b573e0644c8b88c40b8dc5903c6": {
     "views": []
    },
    "f95afee07b6d4790b1a6932dda870385": {
     "views": []
    },
    "fccbbb6b0c074de0a16bc45b378a14b2": {
     "views": []
    },
    "ff6ede3f38554ed38ab39dec90b3e213": {
     "views": []
    },
    "ffc574153da4446a8fb6b1474a2a97a6": {
     "views": []
    }
   },
   "version": "1.1.2"
  }
 },
 "nbformat": 4,
 "nbformat_minor": 0
}
