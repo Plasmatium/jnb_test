{
 "cells": [
  {
   "cell_type": "code",
   "execution_count": 1,
   "metadata": {
    "ExecuteTime": {
     "end_time": "2016-05-30T15:12:41.787176",
     "start_time": "2016-05-30T15:12:37.902099"
    },
    "collapsed": false
   },
   "outputs": [
    {
     "name": "stdout",
     "output_type": "stream",
     "text": [
      "importing Jupyter notebook from tools.ipynb\n",
      "importing Jupyter notebook from database.ipynb\n"
     ]
    }
   ],
   "source": [
    "%matplotlib notebook\n",
    "from IMP import *\n",
    "from ipywidgets import *\n",
    "from tools import *\n",
    "from IPython.display import display, HTML\n",
    "\n",
    "import matplotlib.pyplot as plt \n",
    "import database as db\n",
    "import numpy as np\n",
    "import pandas as pd\n",
    "\n",
    "\n",
    "plt.style.use('ggplot')\n",
    "\n",
    "#def show_all():\n",
    "s = db.Config.select()\n",
    "data_list = [d._data for d in s]\n",
    "df = pd.DataFrame.from_dict(data_list)\n",
    "df.index = df.id\n",
    "del df['id']\n",
    "\n",
    "def display_config(sn, sel):\n",
    "    display(HTML('<h1>Configuration Shown as below:</h1>'))\n",
    "    display(df)\n",
    "\n",
    "def display_selected_config(sn, sel):\n",
    "    sel_config = df[df.sn==sn]\n",
    "    display(HTML('<h1>Selected configure:</h1>'))\n",
    "    display(sel_config)\n",
    "    \n",
    "def display_selected_log(sn, sel):\n",
    "    conf = db.Config.select().where(db.Config.sn==sn)[0]\n",
    "    log = conf.get_related_log()\n",
    "\n",
    "    selector = [getattr(log, attr) for attr in sel]\n",
    "    log_df = pd.DataFrame.from_dict([d._data for d in log.select(*selector)])\n",
    "    display(HTML('<h1>Selected log shown as below:</h1>'))\n",
    "    display(log_df)    \n",
    "\n",
    "def display_content(sn, sel):\n",
    "    display_config(sn, sel)\n",
    "    display_selected_config(sn, sel)\n",
    "    display_selected_log(sn, sel)\n",
    "\n",
    "def draw(data):        \n",
    "    fig, ax = plt.subplots()\n",
    "    ax.plot(data)\n",
    "    plt.show()\n",
    "\n",
    "sn_sel = Dropdown(options=list(df.sn.values), description='SN')\n",
    "\n",
    "def update_ui(argv):\n",
    "    sn_sel.close()\n",
    "    display(sn_sel)\n",
    "    \n",
    "sn_sel.observe(update_ui, 'value')\n",
    "\n",
    "\n",
    "def show_all():\n",
    "    display(sn_sel)  \n",
    "    #update_ui(None)    \n",
    "\n",
    "'''\n",
    "cklist = None\n",
    "def update_ui(argv):\n",
    "    print\n",
    "    global cklist\n",
    "    if cklist:\n",
    "        cklist.close()\n",
    "    if argv==None:\n",
    "        sn = df.sn.values[0]\n",
    "    else:\n",
    "        sn = argv['new']\n",
    "\n",
    "    def selection(**checklist):\n",
    "        sel = [ch for ch in checklist if checklist[ch]==True]\n",
    "        display_content(sn, sel)\n",
    "\n",
    "    conf = db.Config.select().where(db.Config.sn==sn)[0]\n",
    "    reg_names = get_reg_names(conf.reg_names)\n",
    "    regs_list = get_regs_list(conf.regs_list)\n",
    "    channels = ['_'.join([rn,str(rl)]) for rn, rl in zip(reg_names, regs_list)]\n",
    "    channel_check_list = {ch: True for ch in channels}\n",
    "    cklist = interactive(selection, **channel_check_list)\n",
    "    display(cklist)\n",
    "'''\n",
    "None"
   ]
  },
  {
   "cell_type": "code",
   "execution_count": 2,
   "metadata": {
    "ExecuteTime": {
     "end_time": "2016-05-30T15:12:43.505372",
     "start_time": "2016-05-30T15:12:43.484993"
    },
    "collapsed": false
   },
   "outputs": [
    {
     "data": {
      "text/plain": [
       "<ipywidgets.widgets.widget_selection.Dropdown at 0x70b735f0>"
      ]
     },
     "metadata": {},
     "output_type": "display_data"
    }
   ],
   "source": [
    "show_all()"
   ]
  },
  {
   "cell_type": "code",
   "execution_count": null,
   "metadata": {
    "ExecuteTime": {
     "start_time": "2016-05-30T06:38:52.421Z"
    },
    "collapsed": false
   },
   "outputs": [],
   "source": [
    "def f(x):\n",
    "    return x\n",
    "\n",
    "interact(f, x=locals())"
   ]
  },
  {
   "cell_type": "code",
   "execution_count": null,
   "metadata": {
    "collapsed": true
   },
   "outputs": [],
   "source": []
  }
 ],
 "metadata": {
  "kernelspec": {
   "display_name": "Python 3",
   "language": "python",
   "name": "python3"
  },
  "language_info": {
   "codemirror_mode": {
    "name": "ipython",
    "version": 3
   },
   "file_extension": ".py",
   "mimetype": "text/x-python",
   "name": "python",
   "nbconvert_exporter": "python",
   "pygments_lexer": "ipython3",
   "version": "3.5.1+"
  },
  "widgets": {
   "state": {
    "00d160762964431fb438c486ee890c01": {
     "views": []
    },
    "01385d03b9d547fe802bae04531706ff": {
     "views": []
    },
    "01781f851fbf4d05aab868a42c71227f": {
     "views": []
    },
    "01a7a33793334f1fad6bcb66e0f48b70": {
     "views": []
    },
    "02ac443f288d40f5bf088128f6c4e894": {
     "views": []
    },
    "04f9d3ea6ee640e78f05f7f016f39ac4": {
     "views": []
    },
    "0517fa1046854660875eb0c2c6e3cf3d": {
     "views": []
    },
    "05469dd4dd4445389a3e821005d96454": {
     "views": []
    },
    "05ba73c134b5466da926f733c5103aeb": {
     "views": []
    },
    "06472d29c9984fc9a7e2706a14efbcf8": {
     "views": []
    },
    "08288e3015984833b522b488b556be71": {
     "views": []
    },
    "08ae4b92382848c7bee5d45dafb17bf1": {
     "views": []
    },
    "09c469ece5a647729014288340bd4c70": {
     "views": []
    },
    "0b4fb856289743d0990d677c9515b771": {
     "views": []
    },
    "0cf24e93f47b48bda949cbf763b30146": {
     "views": []
    },
    "0d2bf16ee5c64186a7170949e80ef5df": {
     "views": []
    },
    "0d4f6b62d4f64a988f1addc11c2b7054": {
     "views": []
    },
    "0e906cad48064252941bc592667536dd": {
     "views": []
    },
    "0ed2c550eeaf44e08caf90eba95bc3c7": {
     "views": []
    },
    "1035ce73d70344439b12ee0898814e3e": {
     "views": []
    },
    "1092fad4bda84501be49373ad6c82dd6": {
     "views": []
    },
    "10a4bd91cc5b4d85968e1262e21def0e": {
     "views": []
    },
    "12b38eccd1744fa48815d2bb933f0c93": {
     "views": []
    },
    "132f1c5acb1a4808a2cd6f9dd80fef31": {
     "views": []
    },
    "13edf4e48f124fdcae911afd90aa3187": {
     "views": []
    },
    "14b8c549613f492782391f5bc17e3152": {
     "views": []
    },
    "14d6e54b237f4e1e8c49327767edce10": {
     "views": []
    },
    "157a62e5ec8e4f6fbeb0fd2be06289ba": {
     "views": []
    },
    "15fba47ba8b64057953d85df3966a7d7": {
     "views": []
    },
    "16a12230574d4176bedabf371ef75297": {
     "views": []
    },
    "17ec2c1ff29d46549faebe2b9e62fa6b": {
     "views": []
    },
    "1854c27ed6b041a9a7ae5f797f3e5eb0": {
     "views": []
    },
    "1a95a8ddd5e9420ca1447b3bb80d27b0": {
     "views": []
    },
    "1ad29cd3f09c466fb870d22083995d06": {
     "views": []
    },
    "1ade8580784d463581ba624c8dfed1d8": {
     "views": []
    },
    "1cde6e91761e4ced8cb3f92684d31aea": {
     "views": []
    },
    "1d2ba1b4aa06472e99ad3014371c5422": {
     "views": []
    },
    "1d97e10ca0d9417f966f8c842cad6bf8": {
     "views": []
    },
    "1e270dab4a6a474ca6c641e823c66359": {
     "views": []
    },
    "1ea0cffb0dc94e60a68332033f0ef675": {
     "views": []
    },
    "1ef6ba3224794b59a36cd86ba016a862": {
     "views": []
    },
    "1f8965056d1e4c78b9369721de1cfb78": {
     "views": []
    },
    "209d5b15bc8744b4b024de5897a570e0": {
     "views": []
    },
    "20d61f8e28814354b33c73af75bb35d8": {
     "views": []
    },
    "23440fee06894fe58c86f2c072323e3a": {
     "views": []
    },
    "23711df6fcdc4e37a2f51b7b72217591": {
     "views": []
    },
    "2456114b6fde4a3caacfc6b4d40371c0": {
     "views": [
      {
       "cell_index": 1
      }
     ]
    },
    "2498487381e94a7888518ff7fdd0410e": {
     "views": []
    },
    "25adb0ef0bed4db28f5207ce77f2c0de": {
     "views": []
    },
    "2663b04e81f84f158bfd1bf9193aa24d": {
     "views": []
    },
    "278ea70fc45c43bcbae06a7064e0157e": {
     "views": []
    },
    "27bac2b866b74e4b97e9cfad3e2e4b5d": {
     "views": []
    },
    "27d8c512d152488a86da1e08a5707342": {
     "views": []
    },
    "2c2cb705438244349af29a00c2fdecf1": {
     "views": []
    },
    "2ffbc8b9394d457d94f2e2e78718bc46": {
     "views": []
    },
    "311c7725f3a742b0b11ced28d8665b5e": {
     "views": []
    },
    "32b7744af0774f49ac3491fc0e367cf5": {
     "views": []
    },
    "3312b81e680b44c3b2c9dbe0404c5c43": {
     "views": []
    },
    "33345fa98fc6404990414f6141fd911d": {
     "views": []
    },
    "33a7aef3c9fd43a18fe86d07b17ce372": {
     "views": []
    },
    "346c63e81ded44f183529b93110099d3": {
     "views": []
    },
    "369be64ab70c4cc59cc595befe2d576b": {
     "views": []
    },
    "37317ab3cbb74459ab104c72428baf7e": {
     "views": []
    },
    "376d246617c7450881aa95cad4f9f3aa": {
     "views": []
    },
    "385613fac8ca47aaaf77bf83fac05978": {
     "views": []
    },
    "38d1b7046f554a1f9158df41e11b45b7": {
     "views": []
    },
    "3a6fb027e53e4b53822582efdfe43a38": {
     "views": []
    },
    "3bdd7abadb734a1cbc5101d9147c22e7": {
     "views": []
    },
    "3d7563293e1f4da39106e452bba8a51b": {
     "views": []
    },
    "3d761e47a40348bd8d3424aaaa8480cc": {
     "views": []
    },
    "3e5c8005989b4022afaa31ef13626271": {
     "views": []
    },
    "3e6801b07cae4f269c599c0457c103c0": {
     "views": []
    },
    "40184f239791409fac0681a59d52fa7d": {
     "views": []
    },
    "401ecf2ff1a149938dca0ae8589c381d": {
     "views": []
    },
    "402b084bd86c46739e55f3649f0c8832": {
     "views": []
    },
    "402f0f0c6e4340e6822562ad8c4aa4c0": {
     "views": []
    },
    "412763290c27448bbc01ca325a590388": {
     "views": []
    },
    "416a85274b7e456e9869337724f2d018": {
     "views": []
    },
    "41aa56b57a6b4613b65d0075c72b9d27": {
     "views": []
    },
    "42bfe7e2ae9a4bd09665f1dba1aa3265": {
     "views": []
    },
    "42c829b526444640b80c441126ce5eda": {
     "views": []
    },
    "430e3d69edbc4caaa52a3063fd496b02": {
     "views": []
    },
    "4340e2dfee0340a28fb474f4a343756c": {
     "views": []
    },
    "45499c7db72f4990a6ce418cd0999c91": {
     "views": []
    },
    "45fe36def3e54aba869bbc948ab9e2cd": {
     "views": []
    },
    "47b6b40ebe744c35a7bc96967db998e7": {
     "views": []
    },
    "483d405dc640416897a32dea98358c61": {
     "views": []
    },
    "487cfb574ee845a9bb0bd1fba769ce85": {
     "views": []
    },
    "49024f406886485a9b9a65cedb24b1f1": {
     "views": []
    },
    "49e704db4a7d4460b11b1769d500ae11": {
     "views": []
    },
    "4a2e7b89b25a4e8cb3708d97d8be0521": {
     "views": []
    },
    "4a6c105a287d48cea455d71cd4c1ce45": {
     "views": []
    },
    "4aab2dd06e6143769ea5d4e3b575cdf5": {
     "views": []
    },
    "4c3aa962ceba44918519b79130a5b01f": {
     "views": []
    },
    "4ed1e134871e47e4bdfac79af41d2ab9": {
     "views": []
    },
    "4f7ef4b3e51a45f2ae8866244662bb98": {
     "views": []
    },
    "505ae006e434432788ffcdb6394f4784": {
     "views": []
    },
    "513ca9d8858a4976acc419bb1c04d573": {
     "views": []
    },
    "5200955f99204d998ee80ba281a62c94": {
     "views": []
    },
    "52757abaa46747c59de656e90119aa97": {
     "views": []
    },
    "52797bb1587c49eaaeb76c337f23af2d": {
     "views": []
    },
    "52f85c581ec445bcafba5198abd66596": {
     "views": []
    },
    "55de7121ba2d40459f8bd224b0f4d335": {
     "views": []
    },
    "55e5774479f54f689f92ed008e64b303": {
     "views": []
    },
    "56015ed7908d4f46847d34f4e1d424c5": {
     "views": []
    },
    "572f41a490114b7cb2305b5b0f22b75f": {
     "views": []
    },
    "577e1a67fc464680bcce177ca413829e": {
     "views": []
    },
    "577feb7822384717a7ee978b2af30406": {
     "views": []
    },
    "57fbc5682cb943fa90d7236a37f6bbd2": {
     "views": []
    },
    "58787c578e8447b1a71cb96976aba69f": {
     "views": []
    },
    "5901135bab5f4f6dbf8d7f843279940d": {
     "views": []
    },
    "59164848e4b54845afa30652a3b2700c": {
     "views": []
    },
    "5ac027ec977f4c5499af6e8751eef18c": {
     "views": []
    },
    "5ca950f87e1f4e5b8cd4d1752b241fd3": {
     "views": []
    },
    "5d61c9d5ecf943cb9091c735b76e86d5": {
     "views": []
    },
    "60b3778a466845dabf53a58287f4bf47": {
     "views": []
    },
    "60dfd350686b4f599855aba90c3b0ec7": {
     "views": []
    },
    "60f3e37902444bbd973046c165a8c411": {
     "views": []
    },
    "6275b96847fa41eb88d369e77b8e91d4": {
     "views": []
    },
    "62f974a7c2d745ceafe3960c1ae3bdd7": {
     "views": []
    },
    "6419bc6b05074a40be3d73abb76efee5": {
     "views": []
    },
    "6462f4cbb6eb4f2aa2075df164040915": {
     "views": []
    },
    "6623c17c797243ec9b29cf379e664ddd": {
     "views": []
    },
    "668b95f829ee4a12acf5508044170439": {
     "views": []
    },
    "68888262e6774d7191393db3b7ced4b4": {
     "views": []
    },
    "6890ab38ac8548dc85324dc76eafc999": {
     "views": []
    },
    "68ff3fa1620e418e84556e58a1ecf113": {
     "views": []
    },
    "69330d9f730b489aaea4fb8cc6763d4b": {
     "views": []
    },
    "699978f92026411c9acbba830277acca": {
     "views": []
    },
    "69ecd83b4b5b4ed596f258fe509d3cd9": {
     "views": []
    },
    "6bcb0fa2788d4d80ada2c9098abdaf48": {
     "views": []
    },
    "6ccc1e048a374e3291f22410f4151dfe": {
     "views": []
    },
    "6e2a8e1a412441289409f39138230337": {
     "views": []
    },
    "712a8ff15eff4df591b5cb0a5d1f6358": {
     "views": []
    },
    "726c418740754702a9da7ce98b540dba": {
     "views": [
      {
       "cell_index": 1
      }
     ]
    },
    "72e9e7855b034614837fdd82d25a461d": {
     "views": []
    },
    "74515dfeabdf47deb26e3789f0021cb1": {
     "views": []
    },
    "74886beff0964d32a919ccfc8d2d9477": {
     "views": []
    },
    "75502f7929604b13b04fb27019b350f9": {
     "views": []
    },
    "75b8d5ccde6a4f4cb4116b784b95c8ec": {
     "views": []
    },
    "7648735758cd4489a4d5ad1c307256e4": {
     "views": []
    },
    "7687f6fa63a2410885fbe02aca33b272": {
     "views": [
      {
       "cell_index": 2
      }
     ]
    },
    "779af03adb4744cb81c2c12de2a47c30": {
     "views": []
    },
    "77e308d37f8e4d71b65bc654f5786a29": {
     "views": []
    },
    "7ab1ce855ed64b22b784c5ce28ff2c32": {
     "views": []
    },
    "800ec3037e7741658bc002d82edd3303": {
     "views": []
    },
    "820abbcfe0d743c59a9d3d95646231fd": {
     "views": []
    },
    "8219e8218a3d4810876d91d21bb70fb8": {
     "views": []
    },
    "88aa8290fbb1476aa320b025f95088db": {
     "views": []
    },
    "88af05dc6ac04318b821492fc4033b52": {
     "views": []
    },
    "89020466ea614e24af3acf6eef0c342a": {
     "views": []
    },
    "8910c1374b6b4b168512176f931ff0d2": {
     "views": []
    },
    "8a767e591b254f47b5a01edc8952f36b": {
     "views": []
    },
    "8ed201347add49ee9b698b2ed1ec7a8e": {
     "views": []
    },
    "8f5fcc8b9ddd4ca19db34b65da963d81": {
     "views": []
    },
    "90dd88729d914f65979e02750171b23a": {
     "views": []
    },
    "914ef33e8b5948e3a8f081ac14957698": {
     "views": []
    },
    "922b0e93a9cb4e71bc16cb41442cd1b5": {
     "views": []
    },
    "9445a5a75fc0422a9cf37a4996c08d1f": {
     "views": []
    },
    "95ff15f0d23a40228bb68340e217a83b": {
     "views": []
    },
    "9715a2c3a18a4cfaa4c1ad823ada04d9": {
     "views": []
    },
    "9790fbd8c0204d10affa7f70985ef03d": {
     "views": []
    },
    "99c7723c41034400a9aea60e09635f3d": {
     "views": []
    },
    "9ae2529248754d88a5aa8c5f901cdb11": {
     "views": []
    },
    "9cdfce89a1324c43b9d35af6c0c9d738": {
     "views": []
    },
    "9d2a1e3d31774c018109ff9e94cd7e7b": {
     "views": []
    },
    "9dd587cf26084fbf97ad19394ece332d": {
     "views": []
    },
    "9e139d53ee904beb90512310da1b3228": {
     "views": []
    },
    "9e2f5db9a66848aba7cab7a9697e3f23": {
     "views": []
    },
    "9ff9cb019c2f4ca899f9113a09bb85f4": {
     "views": []
    },
    "a0689ba9c7fe443bbb0bb0046f4f3259": {
     "views": []
    },
    "a20fbdb6fd7444128931e6f1e72c6ab7": {
     "views": []
    },
    "a259075ff1da4e54811e4e664096b362": {
     "views": []
    },
    "a28a364241e445cd8ffaf29740b95eb8": {
     "views": []
    },
    "a2d801a629c5409b89d335d54ae06913": {
     "views": []
    },
    "a3fa5a45e32143c7b70403f6f9e50caa": {
     "views": [
      {
       "cell_index": 2
      }
     ]
    },
    "a533d946798645d9b4bdfb116141133d": {
     "views": []
    },
    "a589829c3ba14c5d8665ea81bc3cfd54": {
     "views": []
    },
    "a5c2bb0f608e4551b757d63a91ff59ca": {
     "views": []
    },
    "a6491ea38ada4794bb96ccbe73d9bdd9": {
     "views": []
    },
    "a6da641f2deb48d68effd94d33243fbb": {
     "views": []
    },
    "a77d55f5ae9e4ac39aff03d4b018f75d": {
     "views": []
    },
    "a7bcca805abc40f492ba21fa3d66c80f": {
     "views": []
    },
    "a82f4391edba46739bc71a2db320546b": {
     "views": []
    },
    "a85c0128cc4646df8191a4b82daa28cd": {
     "views": []
    },
    "a8691b5a47a04127958267cb33c90c8f": {
     "views": []
    },
    "a8b0b7a180ee40cb90b306b8a1e640e8": {
     "views": []
    },
    "ab73546440d94e7086d80c850305a8a4": {
     "views": []
    },
    "ad4886032afb4380b8d3113cabaaeaec": {
     "views": []
    },
    "af39a435596c49ee801763e8715043a3": {
     "views": []
    },
    "af656478f488489ea19c7348fc8e8913": {
     "views": []
    },
    "b02c0111de9745d8a0aaae68182b7aae": {
     "views": []
    },
    "b030df2f76fc4ba8bc91bcc57143c6cf": {
     "views": []
    },
    "b3b2730b601243388f3af994c65471db": {
     "views": []
    },
    "b42c3c0d2392452d90b9184477943afa": {
     "views": []
    },
    "b8629657744e4b04b74b1aa5523307b5": {
     "views": []
    },
    "b87ca2292fda402c85fbb527c3c5fd5d": {
     "views": []
    },
    "ba4ba62eb0924a7bbb79ef260dfb2a67": {
     "views": []
    },
    "bad341c1ed7847e99b73ea1ced5f7400": {
     "views": []
    },
    "bb363983c7074c0a800d45dfad1fe3ae": {
     "views": []
    },
    "bbaa634ef89a45778fe77971943349ad": {
     "views": []
    },
    "bc7c8a8bc5ef4a1889bb9fd89fa61aed": {
     "views": []
    },
    "bd11656facfc4bcdaa69ae4e00158c8c": {
     "views": []
    },
    "bd618c3fea364acc82521f9659bb4950": {
     "views": []
    },
    "bdd3e164f4ed4b73a3dfb8791570b619": {
     "views": []
    },
    "be0e8c72a0074d299fd3aea4a6839889": {
     "views": []
    },
    "be7d3ef818674fa2a8dd4cf7f6ff2434": {
     "views": []
    },
    "bffe78b1741e4a3ab336e011a32f3c7e": {
     "views": []
    },
    "c08afe8f661642fb9190076dce9d9454": {
     "views": []
    },
    "c0f3482223494c04aeb42fa9f89be8d4": {
     "views": []
    },
    "c13a8e51ca7a4d019827be7fb5b2ba79": {
     "views": []
    },
    "c26dd55e82e04a32a3de9c5403bdabfd": {
     "views": []
    },
    "c29f97b5ed37462bb483cc6bc26c2ffd": {
     "views": []
    },
    "c4e3c9092f2f4c07b4a4cd1d10bf877d": {
     "views": []
    },
    "c554d88debfb4605bc0d86d764fa8b4a": {
     "views": []
    },
    "c78a8f96dbf44b2ea68a9417f98606ae": {
     "views": []
    },
    "c79172c5a3094c99bafd0da77fd99cd8": {
     "views": []
    },
    "c86b9533ba0848cab1ee6ebf5990a3d7": {
     "views": []
    },
    "c9f4e7b532bd4cc7aa12a71e671066e7": {
     "views": []
    },
    "ca3a7f382ddd4cb0818683cadd59b897": {
     "views": []
    },
    "ca65d8f7d0c24adc8580c7d3cdd743e3": {
     "views": []
    },
    "cc9591729adc4a90847fa55f6035e8aa": {
     "views": []
    },
    "ccfe97fe603b49bfa8b41259d06ff9d0": {
     "views": []
    },
    "cd6de989dc914499abbd89efb38386db": {
     "views": []
    },
    "cddf1591f24b4dad8923a2738b8662fb": {
     "views": []
    },
    "ce097737f2ab437692a7b754fba365b9": {
     "views": []
    },
    "ced1394885414c6ab875460240f8d48e": {
     "views": []
    },
    "cef45634e306452e8799f102fc1b2725": {
     "views": []
    },
    "cfc27e0bf4e641d5a4350b9efdc72695": {
     "views": []
    },
    "d0a79207b69b4ee3b00b26f225fae185": {
     "views": []
    },
    "d12a58c3074f43acb0fa5ae262fb3294": {
     "views": []
    },
    "d23c3b9b14764dc1a47acb40d71ad469": {
     "views": []
    },
    "d50fa69bc2004272824379f1f101bf91": {
     "views": []
    },
    "d63e628fa711403aa4efad7c4b9b9763": {
     "views": []
    },
    "d6a9d6bcb15a45de897e56698efff65e": {
     "views": []
    },
    "d7a73bbc33d147c8adcbd3006063afad": {
     "views": []
    },
    "d8bb0f9771de4df8aafa5c27d4d4d4b2": {
     "views": []
    },
    "d9bdf82fca734d77ada9aa62f71c0b78": {
     "views": []
    },
    "daeeeff9585b409f83cec6b88e18083e": {
     "views": []
    },
    "dbea2d1d48f649efab5cfe5c524bd455": {
     "views": []
    },
    "dcb1bbb52d164f469ac65b06c255cbef": {
     "views": []
    },
    "ddaec02a13c649459ff1a11ed07baf00": {
     "views": []
    },
    "ddc0b7efe1244da5bf08cf4d24f5f8f5": {
     "views": []
    },
    "de097f22aa4d41f4a8e605fff084a474": {
     "views": []
    },
    "df2b669d0fbf438ca728937d15791f40": {
     "views": []
    },
    "e109b6958942452a957a5b6ac066c01c": {
     "views": []
    },
    "e15384cbc58446f38c54690aa860770b": {
     "views": []
    },
    "e567a9803a774429918b1e6095ed362c": {
     "views": []
    },
    "e5b55702da644e3f936f3ddaa990634c": {
     "views": []
    },
    "e5faa2a00f0a403f9cbf0633a040bd9c": {
     "views": []
    },
    "e765f5f495604b9186055786ca795798": {
     "views": []
    },
    "e84550336cb442f99052ecabed3896c2": {
     "views": []
    },
    "e8b0cf9142b74c5cb5aa71fd20fb0f22": {
     "views": []
    },
    "e8ce4d1fb9c646768760d672bc399777": {
     "views": []
    },
    "e93b3d9dec9d46bfbf0c746cef660347": {
     "views": []
    },
    "ec2216062fe74b8581015e1a7dffdbbf": {
     "views": []
    },
    "ee655a4f6df44fae8e0416b851eb9b19": {
     "views": []
    },
    "ef0ea4026ce1476b97314e7c86840b2f": {
     "views": []
    },
    "ef53f10d22e749ff9ae63890b2a43104": {
     "views": []
    },
    "f1b78a6d16c8438e96e88b0cd4ca8f4e": {
     "views": []
    },
    "f240eea6272140978244c7da6d49c8e6": {
     "views": []
    },
    "f3d58b8b6029443f963570984eccc721": {
     "views": []
    },
    "f487e7e526764f3db91afa5858bb4e7a": {
     "views": []
    },
    "f507ea2dcf5441dfa42cc15562314350": {
     "views": []
    },
    "f98f8e794fe4433998626bbdc33e79cc": {
     "views": []
    },
    "f9a983f27bf54c84aff7fe1fdad0baae": {
     "views": []
    },
    "f9c748bab9e541d5b4b19d1934644c6f": {
     "views": []
    },
    "f9ec24808109456a91b8eb2caa62ca05": {
     "views": []
    },
    "fe850fbe20ad40068f904628deb5c257": {
     "views": []
    },
    "ff7d9583b4154c03b4bce12f1eba96a5": {
     "views": []
    }
   },
   "version": "1.1.2"
  }
 },
 "nbformat": 4,
 "nbformat_minor": 0
}
