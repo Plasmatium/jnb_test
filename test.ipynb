{
 "cells": [
  {
   "cell_type": "code",
   "execution_count": 1,
   "metadata": {
    "ExecuteTime": {
     "end_time": "2016-05-12T22:00:23.609708",
     "start_time": "2016-05-12T22:00:23.535318"
    },
    "collapsed": true
   },
   "outputs": [],
   "source": [
    "from IMP import *"
   ]
  },
  {
   "cell_type": "code",
   "execution_count": 2,
   "metadata": {
    "ExecuteTime": {
     "end_time": "2016-05-12T22:00:24.194620",
     "start_time": "2016-05-12T22:00:24.059512"
    },
    "collapsed": false,
    "scrolled": true
   },
   "outputs": [
    {
     "name": "stdout",
     "output_type": "stream",
     "text": [
      "importing Jupyter notebook from database.ipynb\n",
      "importing Jupyter notebook from tools.ipynb\n"
     ]
    }
   ],
   "source": [
    "import database as db"
   ]
  },
  {
   "cell_type": "code",
   "execution_count": 3,
   "metadata": {
    "ExecuteTime": {
     "end_time": "2016-05-12T22:00:29.807405",
     "start_time": "2016-05-12T22:00:29.799317"
    },
    "collapsed": false
   },
   "outputs": [
    {
     "name": "stdout",
     "output_type": "stream",
     "text": [
      "cursor been got\n",
      "connecting config.db\n"
     ]
    }
   ],
   "source": [
    "sql = db.add_config(sn = 'slv_wonderful', addr_info = '192.168.1.10@202', regs_list = '20-23, 50',\\\n",
    "              reg_names = 'ch1, ch2, ch3, ch4, ch5', info = 'for testing')"
   ]
  },
  {
   "cell_type": "code",
   "execution_count": 4,
   "metadata": {
    "ExecuteTime": {
     "end_time": "2016-05-12T22:00:35.934493",
     "start_time": "2016-05-12T22:00:35.922643"
    },
    "collapsed": false
   },
   "outputs": [
    {
     "name": "stdout",
     "output_type": "stream",
     "text": [
      "closing\n"
     ]
    }
   ],
   "source": [
    "del db.add_config"
   ]
  },
  {
   "cell_type": "code",
   "execution_count": 2,
   "metadata": {
    "ExecuteTime": {
     "end_time": "2016-05-12T21:03:34.752846",
     "start_time": "2016-05-12T21:03:33.458656"
    },
    "collapsed": false
   },
   "outputs": [
    {
     "name": "stdout",
     "output_type": "stream",
     "text": [
      "The slowest run took 8.07 times longer than the fastest. This could mean that an intermediate result is being cached.\n",
      "10000 loops, best of 3: 30.8 µs per loop\n"
     ]
    }
   ],
   "source": [
    "import sqlite3\n",
    "%timeit conn = sqlite3.connect('config.db'); conn.close()"
   ]
  },
  {
   "cell_type": "code",
   "execution_count": 11,
   "metadata": {
    "ExecuteTime": {
     "end_time": "2016-05-12T21:24:18.851803",
     "start_time": "2016-05-12T21:24:18.843090"
    },
    "collapsed": false
   },
   "outputs": [],
   "source": [
    "import sqlite3\n",
    "\n",
    "conn = sqlite3.connect('config.db')\n",
    "cur = conn.cursor()\n",
    "cur.close()\n",
    "conn.close()"
   ]
  },
  {
   "cell_type": "code",
   "execution_count": 19,
   "metadata": {
    "ExecuteTime": {
     "end_time": "2016-05-12T21:27:42.947878",
     "start_time": "2016-05-12T21:27:41.782460"
    },
    "collapsed": false
   },
   "outputs": [
    {
     "name": "stdout",
     "output_type": "stream",
     "text": [
      "100 loops, best of 3: 2.77 ms per loop\n"
     ]
    }
   ],
   "source": [
    "def do():\n",
    "    for i in range(1000):\n",
    "        conn = sqlite3.connect('config.db')\n",
    "        cur = conn.cursor()\n",
    "        cur.execute('insert into test(txt) values(100)')\n",
    "        conn.commit\n",
    "        cur.close()\n",
    "        conn.close()\n",
    "        \n",
    "def do2():\n",
    "    conn = sqlite3.connect('config.db')\n",
    "    cur = conn.cursor()\n",
    "    for i in range(1000):\n",
    "        \n",
    "        cur.execute('insert into test(txt) values(100)')\n",
    "    conn.commit\n",
    "    cur.close()\n",
    "    conn.close()\n",
    "\n",
    "%timeit do2()"
   ]
  },
  {
   "cell_type": "code",
   "execution_count": 5,
   "metadata": {
    "ExecuteTime": {
     "end_time": "2016-05-12T20:54:37.703612",
     "start_time": "2016-05-12T20:54:37.654852"
    },
    "collapsed": false
   },
   "outputs": [
    {
     "ename": "OperationalError",
     "evalue": "table config already exists",
     "output_type": "error",
     "traceback": [
      "\u001b[1;31m---------------------------------------------------------------------------\u001b[0m",
      "\u001b[1;31mOperationalError\u001b[0m                          Traceback (most recent call last)",
      "\u001b[1;32m<ipython-input-5-43567b9f6cf5>\u001b[0m in \u001b[0;36m<module>\u001b[1;34m()\u001b[0m\n\u001b[0;32m     15\u001b[0m ''',)\n\u001b[0;32m     16\u001b[0m \u001b[0mcur\u001b[0m \u001b[1;33m=\u001b[0m \u001b[0mconn\u001b[0m\u001b[1;33m.\u001b[0m\u001b[0mcursor\u001b[0m\u001b[1;33m(\u001b[0m\u001b[1;33m)\u001b[0m\u001b[1;33m\u001b[0m\u001b[0m\n\u001b[1;32m---> 17\u001b[1;33m \u001b[0mcur\u001b[0m\u001b[1;33m.\u001b[0m\u001b[0mexecute\u001b[0m\u001b[1;33m(\u001b[0m\u001b[1;33m*\u001b[0m\u001b[0msql\u001b[0m\u001b[1;33m)\u001b[0m\u001b[1;33m\u001b[0m\u001b[0m\n\u001b[0m\u001b[0;32m     18\u001b[0m \u001b[1;33m\u001b[0m\u001b[0m\n\u001b[0;32m     19\u001b[0m \u001b[1;33m\u001b[0m\u001b[0m\n",
      "\u001b[1;31mOperationalError\u001b[0m: table config already exists"
     ]
    }
   ],
   "source": [
    "import sqlite3\n",
    "\n",
    "config_db = sqlite3.connect('config.db')\n",
    "record_db = sqlite3.connect('record.db')\n",
    "\n",
    "conn = config_db\n",
    "sql = ('''\n",
    "CREATE TABLE config(\n",
    "    sn                CHAR(32) PRIMARY KEY    NOT NULL,\n",
    "    addr_info         CHAR(32)                NOT NULL,\n",
    "    regs_list         TEXT                    NOT NULL,\n",
    "    reg_names         TEXT                    NOT NULL,\n",
    "    info              TEXT                    NOT NULL    \n",
    ")\n",
    "''',)\n",
    "cur = conn.cursor()\n",
    "cur.execute(*sql)\n",
    "\n",
    "\n",
    "config_db.close()\n",
    "record_db.close()"
   ]
  },
  {
   "cell_type": "code",
   "execution_count": 6,
   "metadata": {
    "ExecuteTime": {
     "end_time": "2016-05-12T20:54:37.708032",
     "start_time": "2016-05-12T20:54:37.705125"
    },
    "collapsed": false
   },
   "outputs": [],
   "source": [
    "import sqlite3\n",
    "conn = sqlite3.connect('config.db')\n"
   ]
  },
  {
   "cell_type": "code",
   "execution_count": 7,
   "metadata": {
    "ExecuteTime": {
     "end_time": "2016-05-12T20:54:37.713359",
     "start_time": "2016-05-12T20:54:37.709631"
    },
    "collapsed": true
   },
   "outputs": [],
   "source": [
    "conn.commit();conn.close()"
   ]
  },
  {
   "cell_type": "code",
   "execution_count": 8,
   "metadata": {
    "ExecuteTime": {
     "end_time": "2016-05-12T20:54:37.721001",
     "start_time": "2016-05-12T20:54:37.715648"
    },
    "collapsed": true
   },
   "outputs": [],
   "source": [
    "d = {'sn': 'slv1021', 'addr_info': '192.168.1.10@202', 'regs_list': '20-23,50',\\\n",
    "     'reg_names': 'ch1, ch2, ch3, ch4, ch5', 'info': 'for testing'}"
   ]
  },
  {
   "cell_type": "code",
   "execution_count": 9,
   "metadata": {
    "ExecuteTime": {
     "end_time": "2016-05-12T20:54:37.736594",
     "start_time": "2016-05-12T20:54:37.725694"
    },
    "collapsed": false
   },
   "outputs": [
    {
     "ename": "ProgrammingError",
     "evalue": "Cannot operate on a closed database.",
     "output_type": "error",
     "traceback": [
      "\u001b[1;31m---------------------------------------------------------------------------\u001b[0m",
      "\u001b[1;31mProgrammingError\u001b[0m                          Traceback (most recent call last)",
      "\u001b[1;32m<ipython-input-9-fcda2b5b2359>\u001b[0m in \u001b[0;36m<module>\u001b[1;34m()\u001b[0m\n\u001b[1;32m----> 1\u001b[1;33m \u001b[0mcur\u001b[0m \u001b[1;33m=\u001b[0m \u001b[0mconn\u001b[0m\u001b[1;33m.\u001b[0m\u001b[0mcursor\u001b[0m\u001b[1;33m(\u001b[0m\u001b[1;33m)\u001b[0m\u001b[1;33m\u001b[0m\u001b[0m\n\u001b[0m\u001b[0;32m      2\u001b[0m \u001b[0mcur\u001b[0m\u001b[1;33m.\u001b[0m\u001b[0mexecute\u001b[0m\u001b[1;33m(\u001b[0m\u001b[1;34m'insert into config(%s, %s, %s, %s, %s) values(?,?,?,?,?)'\u001b[0m\u001b[1;33m%\u001b[0m\u001b[0mtuple\u001b[0m\u001b[1;33m(\u001b[0m\u001b[0md\u001b[0m\u001b[1;33m.\u001b[0m\u001b[0mkeys\u001b[0m\u001b[1;33m(\u001b[0m\u001b[1;33m)\u001b[0m\u001b[1;33m)\u001b[0m\u001b[1;33m,\u001b[0m \u001b[0mtuple\u001b[0m\u001b[1;33m(\u001b[0m\u001b[0md\u001b[0m\u001b[1;33m.\u001b[0m\u001b[0mvalues\u001b[0m\u001b[1;33m(\u001b[0m\u001b[1;33m)\u001b[0m\u001b[1;33m)\u001b[0m\u001b[1;33m)\u001b[0m\u001b[1;33m\u001b[0m\u001b[0m\n",
      "\u001b[1;31mProgrammingError\u001b[0m: Cannot operate on a closed database."
     ]
    }
   ],
   "source": [
    "cur = conn.cursor()\n",
    "cur.execute('insert into config(%s, %s, %s, %s, %s) values(?,?,?,?,?)'%tuple(d.keys()), tuple(d.values()))"
   ]
  },
  {
   "cell_type": "code",
   "execution_count": 10,
   "metadata": {
    "ExecuteTime": {
     "end_time": "2016-05-12T20:54:37.751447",
     "start_time": "2016-05-12T20:54:37.739143"
    },
    "collapsed": false
   },
   "outputs": [
    {
     "ename": "ProgrammingError",
     "evalue": "Cannot operate on a closed database.",
     "output_type": "error",
     "traceback": [
      "\u001b[1;31m---------------------------------------------------------------------------\u001b[0m",
      "\u001b[1;31mProgrammingError\u001b[0m                          Traceback (most recent call last)",
      "\u001b[1;32m<ipython-input-10-b27ddb4c506c>\u001b[0m in \u001b[0;36m<module>\u001b[1;34m()\u001b[0m\n\u001b[1;32m----> 1\u001b[1;33m \u001b[0mconn\u001b[0m\u001b[1;33m.\u001b[0m\u001b[0mcommit\u001b[0m\u001b[1;33m(\u001b[0m\u001b[1;33m)\u001b[0m\u001b[1;33m\u001b[0m\u001b[0m\n\u001b[0m",
      "\u001b[1;31mProgrammingError\u001b[0m: Cannot operate on a closed database."
     ]
    }
   ],
   "source": [
    "conn.commit()"
   ]
  },
  {
   "cell_type": "code",
   "execution_count": 11,
   "metadata": {
    "ExecuteTime": {
     "end_time": "2016-05-12T20:54:37.763622",
     "start_time": "2016-05-12T20:54:37.755243"
    },
    "collapsed": false
   },
   "outputs": [
    {
     "ename": "ProgrammingError",
     "evalue": "Cannot operate on a closed database.",
     "output_type": "error",
     "traceback": [
      "\u001b[1;31m---------------------------------------------------------------------------\u001b[0m",
      "\u001b[1;31mProgrammingError\u001b[0m                          Traceback (most recent call last)",
      "\u001b[1;32m<ipython-input-11-d350f8f6e01b>\u001b[0m in \u001b[0;36m<module>\u001b[1;34m()\u001b[0m\n\u001b[1;32m----> 1\u001b[1;33m \u001b[0mcur\u001b[0m \u001b[1;33m=\u001b[0m \u001b[0mconn\u001b[0m\u001b[1;33m.\u001b[0m\u001b[0mcursor\u001b[0m\u001b[1;33m(\u001b[0m\u001b[1;33m)\u001b[0m\u001b[1;33m.\u001b[0m\u001b[0mexecute\u001b[0m\u001b[1;33m(\u001b[0m\u001b[1;34m'select * from config'\u001b[0m\u001b[1;33m)\u001b[0m\u001b[1;33m\u001b[0m\u001b[0m\n\u001b[0m\u001b[0;32m      2\u001b[0m \u001b[0mcur\u001b[0m\u001b[1;33m.\u001b[0m\u001b[0mfetchall\u001b[0m\u001b[1;33m(\u001b[0m\u001b[1;33m)\u001b[0m\u001b[1;33m\u001b[0m\u001b[0m\n",
      "\u001b[1;31mProgrammingError\u001b[0m: Cannot operate on a closed database."
     ]
    }
   ],
   "source": [
    "cur = conn.cursor().execute('select * from config')\n",
    "cur.fetchall()"
   ]
  },
  {
   "cell_type": "code",
   "execution_count": 12,
   "metadata": {
    "ExecuteTime": {
     "end_time": "2016-05-12T20:54:37.786045",
     "start_time": "2016-05-12T20:54:37.765665"
    },
    "collapsed": false
   },
   "outputs": [
    {
     "data": {
      "text/plain": [
       "KeysView(environ({'MANDATORY_PATH': '/usr/share/gconf/ubuntu.mandatory.path', 'XDG_SESSION_DESKTOP': 'ubuntu', 'GNOME_KEYRING_CONTROL': '', 'PWD': '/home/jonny/Github/jnb_test', '_': '/usr/local/bin/jupyter', 'JPY_PARENT_PID': '5677', 'GIT_PAGER': 'cat', 'LANGUAGE': 'zh_CN:zh', 'SHELL': '/usr/bin/zsh', 'USER': 'jonny', 'LESS': '-R', 'QT_IM_MODULE': 'ibus', 'XDG_SEAT_PATH': '/org/freedesktop/DisplayManager/Seat0', 'IM_CONFIG_PHASE': '1', 'GIO_LAUNCHED_DESKTOP_FILE_PID': '1909', 'XDG_SEAT': 'seat0', 'GIO_LAUNCHED_DESKTOP_FILE': '/home/jonny/.config/autostart/guake.desktop', 'GTK_IM_MODULE': 'fcitx', 'XDG_SESSION_ID': 'c1', 'XDG_CURRENT_DESKTOP': 'Unity', 'GTK_MODULES': 'gail:atk-bridge:unity-gtk-module', 'PAGER': 'cat', 'SESSION': 'ubuntu', 'XDG_MENU_PREFIX': 'gnome-', 'QT_QPA_PLATFORMTHEME': 'appmenu-qt5', 'XDG_SESSION_TYPE': 'x11', 'XDG_DATA_DIRS': '/usr/share/ubuntu:/usr/share/gnome:/usr/local/share/:/usr/share/:/var/lib/snapd/desktop', 'LANG': 'zh_CN.UTF-8', 'DEFAULTS_PATH': '/usr/share/gconf/ubuntu.default.path', 'SESSIONTYPE': 'gnome-session', 'LC_CTYPE': 'zh_CN.UTF-8', 'LSCOLORS': 'exfxcxdxbxegedabagacad', 'COMPIZ_CONFIG_PROFILE': 'ubuntu', 'INSTANCE': '', 'JOB': 'dbus', 'SSH_AUTH_SOCK': '/run/user/1000/keyring/ssh', 'XDG_GREETER_DATA_DIR': '/var/lib/lightdm-data/jonny', 'DESKTOP_SESSION': 'ubuntu', 'QT_ACCESSIBILITY': '1', 'ZSH': '/home/jonny/.oh-my-zsh', 'SHLVL': '1', 'SESSION_MANAGER': 'local/jonny-Plasmatium:@/tmp/.ICE-unix/1539,unix/jonny-Plasmatium:/tmp/.ICE-unix/1539', 'UPSTART_SESSION': 'unix:abstract=/com/ubuntu/upstart-session/1000/1053', 'XMODIFIERS': '@im=ibus', 'OLDPWD': '/home/jonny', 'XDG_CONFIG_DIRS': '/etc/xdg/xdg-ubuntu:/usr/share/upstart/xdg:/etc/xdg', 'GPG_AGENT_INFO': '/home/jonny/.gnupg/S.gpg-agent:0:1', 'QT_LINUX_ACCESSIBILITY_ALWAYS_ON': '1', 'XDG_VTNR': '7', 'XDG_RUNTIME_DIR': '/run/user/1000', 'GDMSESSION': 'ubuntu', 'DESKTOP_AUTOSTART_ID': '107a6f18da95fb2b39146304797316745400000015390001', 'GTK2_MODULES': 'overlay-scrollbar', 'XAUTHORITY': '/home/jonny/.Xauthority', 'DISPLAY': ':0', 'GREP_COLOR': '1;33', 'LS_COLORS': 'di=34;40:ln=35;40:so=32;40:pi=33;40:ex=31;40:bd=34;46:cd=34;43:su=0;41:sg=0;46:tw=0;42:ow=0;43:', 'PATH': '/usr/local/sbin:/usr/local/bin:/usr/sbin:/usr/bin:/sbin:/bin:/usr/games:/usr/local/games:/snap/bin', 'LOGNAME': 'jonny', 'XDG_SESSION_PATH': '/org/freedesktop/DisplayManager/Session0', 'GNOME_DESKTOP_SESSION_ID': 'this-is-deprecated', 'HOME': '/home/jonny', 'GNOME_KEYRING_PID': '', 'GDM_LANG': 'zh_CN', 'CLICOLOR': '1', 'CLUTTER_IM_MODULE': 'xim', 'QT4_IM_MODULE': 'fcitx', 'TERM': 'xterm-color', 'DBUS_SESSION_BUS_ADDRESS': 'unix:abstract=/tmp/dbus-oBPv2W8Z9s'}))"
      ]
     },
     "execution_count": 12,
     "metadata": {},
     "output_type": "execute_result"
    }
   ],
   "source": [
    "import os\n",
    "os.environ.keys()"
   ]
  },
  {
   "cell_type": "code",
   "execution_count": null,
   "metadata": {
    "collapsed": true
   },
   "outputs": [],
   "source": []
  }
 ],
 "metadata": {
  "kernelspec": {
   "display_name": "Python 3",
   "language": "python",
   "name": "python3"
  },
  "language_info": {
   "codemirror_mode": {
    "name": "ipython",
    "version": 3
   },
   "file_extension": ".py",
   "mimetype": "text/x-python",
   "name": "python",
   "nbconvert_exporter": "python",
   "pygments_lexer": "ipython3",
   "version": "3.5.1+"
  }
 },
 "nbformat": 4,
 "nbformat_minor": 0
}
