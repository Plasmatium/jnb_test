{
 "cells": [
  {
   "cell_type": "code",
   "execution_count": 1,
   "metadata": {
    "collapsed": true
   },
   "outputs": [],
   "source": [
    "from IMP import *"
   ]
  },
  {
   "cell_type": "code",
   "execution_count": 9,
   "metadata": {
    "collapsed": false,
    "scrolled": true
   },
   "outputs": [
    {
     "name": "stdout",
     "output_type": "stream",
     "text": [
      "importing Jupyter notebook from database.ipynb\n",
      "importing Jupyter notebook from tools.ipynb\n"
     ]
    }
   ],
   "source": [
    "import database as db"
   ]
  },
  {
   "cell_type": "code",
   "execution_count": 13,
   "metadata": {
    "collapsed": false
   },
   "outputs": [],
   "source": [
    "db.add_config(sn = '0x1204', addr_info = '192.168.1.10@202', regs_list = '20-23, 50', reg_names = 'ch1, ch2, ch3, ch4, ch5', info = 'for testing')"
   ]
  },
  {
   "cell_type": "code",
   "execution_count": 3,
   "metadata": {
    "collapsed": false
   },
   "outputs": [],
   "source": [
    "import sqlite3\n",
    "\n",
    "config_db = sqlite3.connect('config.db')\n",
    "record_db = sqlite3.connect('record.db')\n",
    "\n",
    "conn = config_db\n",
    "sql = ('''\n",
    "CREATE TABLE config(\n",
    "    sn                CHAR(32) PRIMARY KEY    NOT NULL,\n",
    "    addr_info         CHAR(32)                NOT NULL,\n",
    "    regs_list         TEXT                    NOT NULL,\n",
    "    reg_names         TEXT                    NOT NULL,\n",
    "    info              TEXT                    NOT NULL    \n",
    ")\n",
    "''',)\n",
    "cur = conn.cursor()\n",
    "cur.execute(*sql)\n",
    "\n",
    "\n",
    "config_db.close()\n",
    "record_db.close()"
   ]
  },
  {
   "cell_type": "code",
   "execution_count": 15,
   "metadata": {
    "collapsed": false
   },
   "outputs": [],
   "source": [
    "import sqlite3\n",
    "conn = sqlite3.connect('config.db')\n"
   ]
  },
  {
   "cell_type": "code",
   "execution_count": 14,
   "metadata": {
    "collapsed": true
   },
   "outputs": [],
   "source": [
    "conn.commit();conn.close()"
   ]
  },
  {
   "cell_type": "code",
   "execution_count": 3,
   "metadata": {
    "collapsed": true
   },
   "outputs": [],
   "source": [
    "d = {'sn': 'slv1021', 'addr_info': '192.168.1.10@202', 'regs_list': '20-23,50', 'reg_names': 'ch1, ch2, ch3, ch4, ch5', 'info': 'for testing'}"
   ]
  },
  {
   "cell_type": "code",
   "execution_count": 6,
   "metadata": {
    "collapsed": false
   },
   "outputs": [
    {
     "data": {
      "text/plain": [
       "<sqlite3.Cursor at 0x34a1020>"
      ]
     },
     "execution_count": 6,
     "metadata": {},
     "output_type": "execute_result"
    }
   ],
   "source": [
    "cur = conn.cursor()\n",
    "cur.execute('insert into config(%s, %s, %s, %s, %s) values(?,?,?,?,?)'%tuple(d.keys()), tuple(d.values()))"
   ]
  },
  {
   "cell_type": "code",
   "execution_count": 7,
   "metadata": {
    "collapsed": true
   },
   "outputs": [],
   "source": [
    "conn.commit()"
   ]
  },
  {
   "cell_type": "code",
   "execution_count": 16,
   "metadata": {
    "collapsed": false
   },
   "outputs": [
    {
     "data": {
      "text/plain": [
       "[('slv1021',\n",
       "  '192.168.1.10@202',\n",
       "  '20-23,50',\n",
       "  'ch1, ch2, ch3, ch4, ch5',\n",
       "  'for testing')]"
      ]
     },
     "execution_count": 16,
     "metadata": {},
     "output_type": "execute_result"
    }
   ],
   "source": [
    "cur = conn.cursor().execute('select * from config')\n",
    "cur.fetchall()"
   ]
  },
  {
   "cell_type": "code",
   "execution_count": null,
   "metadata": {
    "collapsed": true
   },
   "outputs": [],
   "source": []
  }
 ],
 "metadata": {
  "kernelspec": {
   "display_name": "Python 3",
   "language": "python",
   "name": "python3"
  },
  "language_info": {
   "codemirror_mode": {
    "name": "ipython",
    "version": 3
   },
   "file_extension": ".py",
   "mimetype": "text/x-python",
   "name": "python",
   "nbconvert_exporter": "python",
   "pygments_lexer": "ipython3",
   "version": "3.4.3"
  }
 },
 "nbformat": 4,
 "nbformat_minor": 0
}
