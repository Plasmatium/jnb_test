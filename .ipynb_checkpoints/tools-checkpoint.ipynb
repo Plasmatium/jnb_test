{
 "cells": [
  {
   "cell_type": "markdown",
   "metadata": {},
   "source": [
    "# Tools & Uitls"
   ]
  },
  {
   "cell_type": "markdown",
   "metadata": {},
   "source": [
    "## Make this file be able to import other .ipynb files"
   ]
  },
  {
   "cell_type": "code",
   "execution_count": 80,
   "metadata": {
    "collapsed": true
   },
   "outputs": [],
   "source": [
    "from IMP import *"
   ]
  },
  {
   "cell_type": "code",
   "execution_count": 81,
   "metadata": {
    "collapsed": true
   },
   "outputs": [],
   "source": [
    "import os\n",
    "import sys\n",
    "\n",
    "class PrintColorfulTraceBack(BaseException):\n",
    "    ''' This is just to print colorful trace_back and interrupt the function '''"
   ]
  },
  {
   "cell_type": "code",
   "execution_count": 82,
   "metadata": {
    "collapsed": true
   },
   "outputs": [],
   "source": [
    "def get_addr_port(addr_info):\n",
    "    linux = not os.environ['OS'].lower().startswith('win')\n",
    "    try:\n",
    "        assert('@' in addr_info)        \n",
    "        addr, port = addr_info.split('@')\n",
    "        addrlist = addr.split('.')\n",
    "        alen = len(addrlist)\n",
    "        assert(alen == 1 or alen == 4)\n",
    "        \n",
    "        if alen == 1:\n",
    "            # this is serial port, address 0 is broadcast channel, do not use it\n",
    "            a = int(addrlist[0])\n",
    "            assert(0 < a < 256)\n",
    "            port = port.lower()\n",
    "            assert(len(port) > 3)\n",
    "            if linux:\n",
    "                assert(port.startswith('tty'))\n",
    "            else:\n",
    "                assert(port.startswith('com'))\n",
    "        else:  \n",
    "            # this is TCP port\n",
    "            for x in addrlist:\n",
    "                assert(x.isnumeric())\n",
    "                x = int(x)\n",
    "                assert(0 <= x < 256)\n",
    "            assert(port.isnumeric())\n",
    "    except Exception as e:\n",
    "        print('illegal argument: addr_info')\n",
    "        print('Usage: 192.168.1.10@8080 or 10@COM6')\n",
    "        print('NOT %s'%addr_info)\n",
    "        raise(PrintColorfulTraceBack) # this is ugly, but to print colorful trace_back and interrupt the function\n",
    "    \n",
    "    return addr, port"
   ]
  },
  {
   "cell_type": "code",
   "execution_count": 83,
   "metadata": {
    "collapsed": true
   },
   "outputs": [],
   "source": [
    "def get_regs_list(regs_list):\n",
    "    rslt = []\n",
    "    regs_list = regs_list.replace(' ', '')\n",
    "    try:\n",
    "        groups = regs_list.split(',')\n",
    "        last = -1\n",
    "        for unit in groups:\n",
    "            if '-' not in unit:\n",
    "                # single num\n",
    "                assert(unit.isnumeric())\n",
    "                current = int(unit)\n",
    "                assert(current > last)\n",
    "                rslt.append(current)\n",
    "                last = current\n",
    "            else:\n",
    "                # like 10-20\n",
    "                start, end = unit.split('-')\n",
    "                start = int(start); end = int(end)\n",
    "                assert(start > last)\n",
    "                rslt += list(range(start, end+1)) # range(2,5) is [2,3,4]\n",
    "                last = end\n",
    "    except Exception as e:\n",
    "        print('illegal argument: regs_list')\n",
    "        print('Usage: 10-20,25, 30 - 40')\n",
    "        print('NOT %s'%regs_list)\n",
    "        raise(PrintColorfulTraceBack) # this is ugly, but to print colorful trace_back and interrupt the function\n",
    "    \n",
    "    return rslt"
   ]
  },
  {
   "cell_type": "code",
   "execution_count": 84,
   "metadata": {
    "collapsed": true
   },
   "outputs": [],
   "source": [
    "def get_reg_names(reg_names):\n",
    "    rslt = map(lambda x: x.strip(), reg_names.split(','))\n",
    "    return list(rslt)"
   ]
  }
 ],
 "metadata": {
  "kernelspec": {
   "display_name": "Python 3",
   "language": "python",
   "name": "python3"
  },
  "language_info": {
   "codemirror_mode": {
    "name": "ipython",
    "version": 3
   },
   "file_extension": ".py",
   "mimetype": "text/x-python",
   "name": "python",
   "nbconvert_exporter": "python",
   "pygments_lexer": "ipython3",
   "version": "3.4.3"
  }
 },
 "nbformat": 4,
 "nbformat_minor": 0
}
