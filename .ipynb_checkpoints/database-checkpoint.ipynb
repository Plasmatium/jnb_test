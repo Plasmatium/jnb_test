{
 "cells": [
  {
   "cell_type": "markdown",
   "metadata": {},
   "source": [
    "# Database Support"
   ]
  },
  {
   "cell_type": "markdown",
   "metadata": {},
   "source": [
    "## APIs and usage"
   ]
  },
  {
   "cell_type": "markdown",
   "metadata": {},
   "source": [
    "## TODO"
   ]
  },
  {
   "cell_type": "raw",
   "metadata": {
    "collapsed": true
   },
   "source": [
    "###### DO NOT RUN THIS CELL #####\n",
    "# filename: core.py\n",
    "import database as db\n",
    "\n",
    "@db.ConfigDB()\n",
    "def add_config(sn, addr, reg_list, info):\n",
    "    # script_list = make_it_happen(sn, addr, reg_list, info)\n",
    "    # return script_list\n",
    "    pass\n",
    "\n",
    "@db.RecordDB()\n",
    "def insert(sn, data_set):\n",
    "    pass"
   ]
  },
  {
   "cell_type": "markdown",
   "metadata": {},
   "source": [
    "## Make this file be able to import other .ipynb files"
   ]
  },
  {
   "cell_type": "code",
   "execution_count": 1,
   "metadata": {
    "collapsed": true
   },
   "outputs": [],
   "source": [
    "from IMP import *"
   ]
  },
  {
   "cell_type": "markdown",
   "metadata": {
    "collapsed": true
   },
   "source": [
    "## Helper defining "
   ]
  },
  {
   "cell_type": "code",
   "execution_count": 73,
   "metadata": {
    "collapsed": false
   },
   "outputs": [],
   "source": [
    "Docstring = '''\n",
    "Database relative functional module\n",
    "'''\n",
    "\n",
    "import tools as tl\n",
    "import sqlite3\n",
    "\n",
    "class cached_property(object):\n",
    "    ''' A property that is only computed once per instance and then replaces\n",
    "        itself with an ordinary attribute. Deleting the attribute resets the\n",
    "        property. '''\n",
    "        \n",
    "    def __init__(self, func):\n",
    "        self.__doc__ = func.__doc__\n",
    "        self.func = func\n",
    "    \n",
    "    def __get__(self, obj, cls):\n",
    "        if obj is None: return self\n",
    "        value = obj.__dict__[self.func.__name__] = self.func(obj)\n",
    "        return value\n",
    "    \n",
    "\n",
    "def sqlexec(db, *sql_val):\n",
    "    cur = db.cursor()\n",
    "    cur.execute(*sql_val)\n",
    "    cur.close()\n",
    "    \n",
    "\n",
    "class ConfigDB(object):\n",
    "    @cached_property\n",
    "    def db(self):\n",
    "        print('connecting config.db')\n",
    "        return sqlite3.connect('config.db')\n",
    "    \n",
    "    def __init__(self, func):\n",
    "        self.func = func\n",
    "        self.__dict__['__doc__'] = func.__doc__\n",
    "    \n",
    "    def __call__(self, **argv):\n",
    "        sql = self.func(**argv)\n",
    "        cur = self.db.cursor()\n",
    "        if isinstance(sql, str):\n",
    "            cur.execute(sql)\n",
    "        elif isinstance(sql, tuple) and len(sql) == 2:\n",
    "            cur.execute(*sql)\n",
    "        else:\n",
    "            raise(TypeError('sql is not a string or (string, value): %s'%sql))\n",
    "    \n",
    "@ConfigDB    \n",
    "def add_config(sn, addr_info, regs_list, reg_names, info):\n",
    "    '''\n",
    "    def add_config(sn, addr_info, regs_list, reg_names, info):\n",
    "        ...\n",
    "        \n",
    "    sn: serial number of xstream\n",
    "    addr_info: ip@port or address@port\n",
    "    regs_list: list of registers, from small to large, split by comma(\",\"), eg: 10-20,25,30-32\n",
    "    reg_names: names of registers, like CO2, H2, Temp, CH4, ch_1, ch_2... numbers of names in reg_names and registers in reg_list MUST BE matched\n",
    "    info: some description, caption, infomation\n",
    "    '''    \n",
    "    args_dict = locals()\n",
    "    addr, port = tl.get_addr_port(addr_info)\n",
    "    regs = tl.get_regs_list(regs_list)\n",
    "    names = tl.get_reg_names(reg_names)\n",
    "    \n",
    "    try:\n",
    "        assert(len(regs) == len(names))\n",
    "    except AssertionError as e:\n",
    "        print('numbers of names in reg_names and registers in reg_list MUST BE matched')\n",
    "        print('regs num: %d, names num: %d'% (len(regs), len(names)))\n",
    "        raise(tl.PrintColorfulTraceBack)\n",
    "        \n",
    "    sql = ('INSERT INTO config(%s,%s,%s,%s,%s) VALUES(?,?,?,?,?)'%tuple(args_dict.keys()), list(args_dict.values()))\n",
    "    return sql\n"
   ]
  }
 ],
 "metadata": {
  "kernelspec": {
   "display_name": "Python 3",
   "language": "python",
   "name": "python3"
  },
  "language_info": {
   "codemirror_mode": {
    "name": "ipython",
    "version": 3
   },
   "file_extension": ".py",
   "mimetype": "text/x-python",
   "name": "python",
   "nbconvert_exporter": "python",
   "pygments_lexer": "ipython3",
   "version": "3.4.3"
  }
 },
 "nbformat": 4,
 "nbformat_minor": 0
}
