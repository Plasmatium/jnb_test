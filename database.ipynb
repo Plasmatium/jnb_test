{
 "cells": [
  {
   "cell_type": "markdown",
   "metadata": {},
   "source": [
    "# Database Support"
   ]
  },
  {
   "cell_type": "markdown",
   "metadata": {},
   "source": [
    "## Structure\n",
    "* class Config\n",
    "    * override \\_\\_init\\_\\_()\n",
    "    * override save()\n",
    "    * def get_related_log(self)\n",
    "* class BaseLog\n",
    "    * tmstamp"
   ]
  },
  {
   "cell_type": "code",
   "execution_count": 1,
   "metadata": {
    "ExecuteTime": {
     "end_time": "2016-05-18T10:20:54.240739",
     "start_time": "2016-05-18T10:20:53.933539"
    },
    "collapsed": false,
    "scrolled": true
   },
   "outputs": [
    {
     "name": "stdout",
     "output_type": "stream",
     "text": [
      "importing Jupyter notebook from tools.ipynb\n"
     ]
    }
   ],
   "source": [
    "from IMP import NotebookLoader, NotebookFinder\n",
    "from peewee import SqliteDatabase, Model, CharField, TextField, ForeignKeyField, DateTimeField, FloatField\n",
    "from tools import get_addr_port, get_regs_list, get_reg_names, get_md5_string, cached_property, sort_dict\n",
    "from IPython.core.debugger import Tracer; set_trace = Tracer(colors='linux')\n",
    "from datetime import datetime\n",
    "from time import time\n",
    "from collections import OrderedDict\n",
    "\n",
    "\n",
    "Docstring = '''\n",
    "Database relative functional module\n",
    "'''\n",
    "\n",
    "\n",
    "db = SqliteDatabase('data.db')\n",
    "\n",
    "\n",
    "# table config\n",
    "class Config(Model):\n",
    "    '''\n",
    "    One config points to one log table. While insert a configure into config table,\n",
    "    a related log table should be created. So in overrided function save(), there is \n",
    "    a get_related_log() to get that log table and create it.\n",
    "    '''\n",
    "    cached_md5 = {}\n",
    "    sn = CharField(32)\n",
    "    addr_info = CharField(32)\n",
    "    regs_list = CharField(28)\n",
    "    reg_names = CharField(128)\n",
    "    info = TextField()\n",
    "    md5 = CharField(32, unique=True)    \n",
    "    class Meta:\n",
    "        database = db\n",
    "\n",
    "    def __init__(self, **argv):\n",
    "        # md5 automatic generated\n",
    "        if argv:\n",
    "            argv = sort_dict(argv)\n",
    "            md5string = ''.join(argv.values())\n",
    "            md5 = argv['md5'] = get_md5_string(md5string)\n",
    "\n",
    "            # data validation\n",
    "            addr, self.port = get_addr_port(argv['addr_info'])\n",
    "            rl = get_regs_list(argv['regs_list'])\n",
    "            rn = get_reg_names(argv['reg_names'])        \n",
    "            #print('All data valid')     \n",
    "        super().__init__(**argv)  \n",
    "\n",
    "    def save(self, force_insert=False, only=None):\n",
    "        # when finished data validation, a related log table should be created(related on md5)\n",
    "        # conventional saving process  \n",
    "        super().save(force_insert, only)\n",
    "        #print('saved')        \n",
    "\n",
    "        # create new Log Table class and create it in database\n",
    "        Log = self.get_related_log()\n",
    "        Log.create_table()\n",
    "\n",
    "    def get_related_log(self):\n",
    "        assert(self is not None)\n",
    "        if self.md5 in Config.cached_md5:\n",
    "            return Config.cached_md5[self.md5]\n",
    "        ref_dict = OrderedDict()\n",
    "        rl = get_regs_list(self.regs_list)\n",
    "        rn = get_reg_names(self.reg_names)\n",
    "        for name, reg in zip(rn, rl):\n",
    "            ref_dict['_'.join([name, str(reg)])] = FloatField()\n",
    "\n",
    "        ref_dict['__module__'] = getattr(self, '__module__', None)\n",
    "\n",
    "        LogTable = type(self.md5, (BaseLog,), ref_dict)\n",
    "        Config.cached_md5.update({self.md5: LogTable})\n",
    "        return LogTable\n",
    "\n",
    "\n",
    "class BaseLog(Model):            \n",
    "    tmstamp = DateTimeField()\n",
    "    class Meta:\n",
    "        database = db\n",
    "        \n",
    "\n",
    "def get_log(sn):\n",
    "    conf = Config.select().where(Config.sn == sn)[0]\n",
    "    return conf.get_related_log()"
   ]
  },
  {
   "cell_type": "raw",
   "metadata": {
    "ExecuteTime": {
     "end_time": "2016-05-18T10:20:54.723539",
     "start_time": "2016-05-18T10:20:54.574939"
    },
    "collapsed": false
   },
   "source": [
    "import numpy\n",
    "Log = get_log('slv1204')\n"
   ]
  },
  {
   "cell_type": "raw",
   "metadata": {
    "ExecuteTime": {
     "end_time": "2016-05-18T12:38:08.558556",
     "start_time": "2016-05-18T12:38:08.557556"
    },
    "collapsed": false,
    "scrolled": true
   },
   "source": [
    "from numpy.random import rand\n",
    "values = rand(20,6)*400\n",
    "keys = 'tmstamp, ch1_20, ch2_21, ch3_22, ch4_23, ch5_50'.split(', ')\n",
    "data = [{k:int(v) for k,v in zip(keys, value) } for value in values]"
   ]
  },
  {
   "cell_type": "raw",
   "metadata": {
    "ExecuteTime": {
     "end_time": "2016-05-18T12:38:44.531556",
     "start_time": "2016-05-18T12:38:44.423356"
    },
    "collapsed": false
   },
   "source": [
    "exe.execute()"
   ]
  },
  {
   "cell_type": "raw",
   "metadata": {
    "ExecuteTime": {
     "end_time": "2016-05-18T12:40:12.108156",
     "start_time": "2016-05-18T12:40:12.092556"
    },
    "collapsed": false
   },
   "source": [
    "Log.select()[39]._data"
   ]
  },
  {
   "cell_type": "raw",
   "metadata": {
    "ExecuteTime": {
     "end_time": "2016-05-17T17:05:05.463249",
     "start_time": "2016-05-17T17:05:05.447649"
    },
    "collapsed": true
   },
   "source": [
    "import numpy as np\n",
    "import pandas as pd\n",
    "\n",
    "\n",
    "def show_all_config():\n",
    "    s = Config.select()\n",
    "    data_list = [d._data for d in s]\n",
    "    df = pd.DataFrame(data_list)\n",
    "    df.index = df.id\n",
    "    del df['id']\n",
    "    return df"
   ]
  },
  {
   "cell_type": "raw",
   "metadata": {
    "ExecuteTime": {
     "end_time": "2016-05-17T17:05:18.258383",
     "start_time": "2016-05-17T17:05:18.241782"
    },
    "collapsed": false,
    "scrolled": false
   },
   "source": [
    "show_all_config()"
   ]
  }
 ],
 "metadata": {
  "kernelspec": {
   "display_name": "Python 3",
   "language": "python",
   "name": "python3"
  },
  "language_info": {
   "codemirror_mode": {
    "name": "ipython",
    "version": 3
   },
   "file_extension": ".py",
   "mimetype": "text/x-python",
   "name": "python",
   "nbconvert_exporter": "python",
   "pygments_lexer": "ipython3",
   "version": "3.5.1+"
  },
  "widgets": {
   "state": {},
   "version": "1.1.1"
  }
 },
 "nbformat": 4,
 "nbformat_minor": 0
}
