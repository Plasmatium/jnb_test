{
 "cells": [
  {
   "cell_type": "markdown",
   "metadata": {},
   "source": [
    "# Database Support"
   ]
  },
  {
   "cell_type": "markdown",
   "metadata": {},
   "source": [
    "## APIs and usage"
   ]
  },
  {
   "cell_type": "markdown",
   "metadata": {},
   "source": [
    "## TODO"
   ]
  },
  {
   "cell_type": "raw",
   "metadata": {
    "collapsed": true
   },
   "source": [
    "###### DO NOT RUN THIS CELL #####\n",
    "# filename: core.py\n",
    "import database as db\n",
    "\n",
    "@db.ConfigDB()\n",
    "def add_config(sn, addr, reg_list, info):\n",
    "    # script_list = make_it_happen(sn, addr, reg_list, info)\n",
    "    # return script_list\n",
    "    pass\n",
    "\n",
    "@db.RecordDB()\n",
    "def insert(sn, data_set):\n",
    "    pass"
   ]
  },
  {
   "cell_type": "markdown",
   "metadata": {
    "collapsed": true
   },
   "source": [
    "## Helper defining "
   ]
  },
  {
   "cell_type": "code",
   "execution_count": 1,
   "metadata": {
    "ExecuteTime": {
     "end_time": "2016-05-12T22:36:00.650291",
     "start_time": "2016-05-12T22:36:00.554975"
    },
    "collapsed": true
   },
   "outputs": [],
   "source": [
    "from IMP import *\n",
    "from peewee import *\n",
    "from IPython.core.debugger import Tracer; set_trace = Tracer(colors='linux')\n",
    "\n",
    "Docstring = '''\n",
    "Database relative functional module\n",
    "'''\n",
    "\n",
    "config_db = SqliteDatabase('base.db')"
   ]
  },
  {
   "cell_type": "code",
   "execution_count": 2,
   "metadata": {
    "ExecuteTime": {
     "end_time": "2016-05-12T22:36:19.746151",
     "start_time": "2016-05-12T22:36:19.728647"
    },
    "collapsed": false
   },
   "outputs": [
    {
     "data": {
      "text/plain": [
       "True"
      ]
     },
     "execution_count": 2,
     "metadata": {},
     "output_type": "execute_result"
    }
   ],
   "source": [
    "config_db."
   ]
  },
  {
   "cell_type": "raw",
   "metadata": {
    "ExecuteTime": {
     "start_time": "2016-05-12T13:30:40.441Z"
    },
    "collapsed": false
   },
   "source": [
    "from IPython.core.debugger import Tracer; set_trace = Tracer(colors='linux')\n",
    "\n",
    "Docstring = '''\n",
    "Database relative functional module\n",
    "'''\n",
    "\n",
    "import tools as tl\n",
    "import sqlite3\n",
    "from tools import cached_property\n",
    "\n",
    "\n",
    "def sqlexec(db, *sql_val):\n",
    "    cur = db.cursor()\n",
    "    cur.execute(*sql_val)\n",
    "    cur.close()\n",
    "    \n",
    "\n",
    "class ConfigDB(object):\n",
    "    @cached_property\n",
    "    def db(self):\n",
    "        print('connecting config.db')\n",
    "        return sqlite3.connect('config.db')\n",
    "    \n",
    "    @cached_property\n",
    "    def cur(self):\n",
    "        print('cursor been got')\n",
    "        return self.db.cursor()\n",
    "    \n",
    "    def __init__(self, func):\n",
    "        self.func = func\n",
    "        self.__dict__['__doc__'] = func.__doc__\n",
    "    \n",
    "    def __call__(self, **argv):\n",
    "        if 'verb' in argv:\n",
    "            verb = argv['verb']\n",
    "            not_closed = 'db' in self.__dict__ and 'cur' in self.__dict__\n",
    "            if verb == 'commit':\n",
    "                self.db.commit()\n",
    "            elif verb == 'close' and not_closed: \n",
    "                self.db.commit()\n",
    "                self.cur.close()\n",
    "                self.db.close()\n",
    "                del self.cur\n",
    "                del self.db\n",
    "            return\n",
    "        \n",
    "        sql = self.func(**argv)\n",
    "        cur = self.cur\n",
    "        excpt = False\n",
    "        if isinstance(sql, str):\n",
    "            cur.execute(sql)\n",
    "        elif isinstance(sql, tuple) and len(sql) == 2:\n",
    "            cur.execute(*sql)\n",
    "        else:\n",
    "            raise(ValueError('sql is not string or (string, values): %s'%sql))\n",
    "        return sql\n",
    "    \n",
    "    def __del__(self):\n",
    "        print('closing')\n",
    "        self.__call__(verb = 'close')\n",
    "    \n",
    "@ConfigDB    \n",
    "def add_config(sn, addr_info, regs_list, reg_names, info):\n",
    "    '''\n",
    "    def add_config(sn, addr_info, regs_list, reg_names, info):\n",
    "        ...\n",
    "        \n",
    "    sn: serial number of xstream\n",
    "    addr_info: ip@port or address@port\n",
    "    regs_list: list of registers, from small to large, split by comma(\",\"), eg: 10-20,25,30-32\n",
    "    reg_names: names of registers, like CO2, H2, Temp, CH4, ch_1, ch_2... numbers of names in reg_names and registers in reg_list MUST BE matched\n",
    "    info: some description, caption, infomation\n",
    "    '''    \n",
    "    \n",
    "    args_dict = locals()\n",
    "    addr, port = tl.get_addr_port(addr_info)\n",
    "    regs = tl.get_regs_list(regs_list)\n",
    "    names = tl.get_reg_names(reg_names)\n",
    "    \n",
    "    try:\n",
    "        assert(len(regs) == len(names))\n",
    "    except AssertionError as e:\n",
    "        print('numbers of names in reg_names and registers in reg_list MUST BE matched')\n",
    "        print('regs num: %d, names num: %d'% (len(regs), len(names)))\n",
    "        raise(tl.PrintColorfulTraceBack)\n",
    "        \n",
    "    sql = ('INSERT INTO config(%s,%s,%s,%s,%s) VALUES(?,?,?,?,?)'%tuple(args_dict.keys()), list(args_dict.values()))\n",
    "    return sql\n",
    "\n",
    "@ConfigDB\n",
    "def del_config(sn):\n",
    "    "
   ]
  },
  {
   "cell_type": "code",
   "execution_count": null,
   "metadata": {
    "collapsed": true
   },
   "outputs": [],
   "source": []
  }
 ],
 "metadata": {
  "kernelspec": {
   "display_name": "Python 3",
   "language": "python",
   "name": "python3"
  },
  "language_info": {
   "codemirror_mode": {
    "name": "ipython",
    "version": 3
   },
   "file_extension": ".py",
   "mimetype": "text/x-python",
   "name": "python",
   "nbconvert_exporter": "python",
   "pygments_lexer": "ipython3",
   "version": "3.5.1+"
  }
 },
 "nbformat": 4,
 "nbformat_minor": 0
}
