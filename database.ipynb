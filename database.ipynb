{
 "cells": [
  {
   "cell_type": "markdown",
   "metadata": {},
   "source": [
    "# Database Support"
   ]
  },
  {
   "cell_type": "markdown",
   "metadata": {},
   "source": [
    "## APIs and usage"
   ]
  },
  {
   "cell_type": "markdown",
   "metadata": {},
   "source": [
    "## TODO"
   ]
  },
  {
   "cell_type": "markdown",
   "metadata": {
    "collapsed": true
   },
   "source": [
    "## Helper defining "
   ]
  },
  {
   "cell_type": "code",
   "execution_count": 1,
   "metadata": {
    "ExecuteTime": {
     "end_time": "2016-05-13T17:04:05.900188",
     "start_time": "2016-05-13T17:04:05.264125"
    },
    "collapsed": false,
    "scrolled": false
   },
   "outputs": [
    {
     "name": "stdout",
     "output_type": "stream",
     "text": [
      "importing Jupyter notebook from tools.ipynb\n",
      "All data valid\n",
      "saved\n"
     ]
    }
   ],
   "source": [
    "from IMP import NotebookLoader, NotebookFinder\n",
    "from peewee import SqliteDatabase, Model, CharField, TextField, ForeignKeyField, DateTimeField, FloatField\n",
    "from tools import get_addr_port, get_regs_list, get_reg_names, cached_property, get_md5_string\n",
    "from IPython.core.debugger import Tracer; set_trace = Tracer(colors='linux')\n",
    "from datetime import datetime\n",
    "from collections import OrderedDict\n",
    "\n",
    "\n",
    "Docstring = '''\n",
    "Database relative functional module\n",
    "'''\n",
    "\n",
    "\n",
    "db = SqliteDatabase('data.db')\n",
    "\n",
    "# table baselog\n",
    "class BaseLog(Model):\n",
    "    tmstamp = DateTimeField()\n",
    "    class Meta:\n",
    "        database = db\n",
    "\n",
    "# table config\n",
    "class Config(Model):\n",
    "    '''\n",
    "    One config points to one log table. While insert a configure into config table,\n",
    "    a related log table should be created. So in overrided function save(), there is \n",
    "    a get_related_log() to get that log table and create it.\n",
    "    '''\n",
    "    sn = CharField(32)\n",
    "    addr_info = CharField(32)\n",
    "    regs_list = CharField(28)\n",
    "    reg_names = CharField(128)\n",
    "    info = TextField()\n",
    "    md5 = CharField(32, unique=True)    \n",
    "    class Meta:\n",
    "        database = db\n",
    "    \n",
    "    def __init__(self, **argv):\n",
    "        # md5 automatic generated\n",
    "        if argv:\n",
    "            md5string = ''.join(argv.values())\n",
    "            md5 = argv['md5'] = get_md5_string(md5string)\n",
    "\n",
    "            # data validation\n",
    "            addr, self.port = get_addr_port(argv['addr_info'])\n",
    "            rl = get_regs_list(argv['regs_list'])\n",
    "            rn = get_reg_names(argv['reg_names'])        \n",
    "            print('All data valid')       \n",
    "            \n",
    "        super().__init__(**argv)  \n",
    "    \n",
    "    def save(self, force_insert=False, only=None):\n",
    "        # when finished data validation, a related log table should be created(related on md5)\n",
    "        # conventional saving process  \n",
    "        super().save(force_insert, only)\n",
    "        print('saved')        \n",
    "        \n",
    "        # create new Log Table class and create it in database\n",
    "        Log = self.get_related_log()\n",
    "        Log.create_table()\n",
    "        \n",
    "    def get_related_log(self):\n",
    "        ref_dict = OrderedDict()\n",
    "        rl = get_regs_list(self.regs_list)\n",
    "        rn = get_reg_names(self.reg_names)\n",
    "        for name, reg in zip(rn, rl):\n",
    "            ref_dict['_'.join([name, str(reg)])] = FloatField()\n",
    "\n",
    "        ref_dict.update(OrderedDict(BaseLog.__dict__))\n",
    "        ref_dict['__module__'] = getattr(self, '__module__', None)\n",
    "        \n",
    "        LogTable = type(self.md5, (BaseLog,), ref_dict)\n",
    "        return LogTable\n",
    "        \n",
    "        \n",
    "class BaseLog(Model):            \n",
    "    owner = ForeignKeyField(Config)\n",
    "    tmstamp = DateTimeField()\n",
    "    class Meta:\n",
    "        database = db\n",
    "    \n",
    "db.create_table(Config)\n",
    "\n",
    "x = Config.create(sn='slv030912041021', addr_info='192.168.1.10@202',\\\n",
    "                  regs_list='20-23,50', reg_names='ch1, ch2, ch3, ch4, ch5', info='info: testing')\n"
   ]
  },
  {
   "cell_type": "markdown",
   "metadata": {},
   "source": [
    "### **For peewee test**"
   ]
  },
  {
   "cell_type": "code",
   "execution_count": 1,
   "metadata": {
    "ExecuteTime": {
     "end_time": "2016-05-13T13:58:24.960664",
     "start_time": "2016-05-13T13:58:23.876664"
    },
    "collapsed": false
   },
   "outputs": [],
   "source": [
    "from peewee import *\n",
    "\n",
    "db1 = SqliteDatabase('people.db')\n",
    "\n",
    "class Person(Model):\n",
    "    name = CharField()\n",
    "    birthday = DateField()\n",
    "    is_relative = BooleanField()\n",
    "\n",
    "    class Meta:\n",
    "        database = db1 # This model uses the \"people.db\" database.\n",
    "\n",
    "class Pet(Model):\n",
    "    owner = ForeignKeyField(Person, related_name='pets')\n",
    "    name = CharField()\n",
    "    animal_type = CharField()\n",
    "\n",
    "    class Meta:\n",
    "        database = db1 # this model uses the \"people.db\" database\n",
    "        \n",
    "db1.create_tables([Person, Pet])\n",
    "\n",
    "from datetime import date\n",
    "uncle_bob = Person(name='Bob', birthday=date(1960, 1, 15), is_relative=True)\n",
    "uncle_bob.save() # bob is now stored in the database\n",
    "\n",
    "grandma = Person.create(name='Grandma', birthday=date(1935, 3, 1), is_relative=True)\n",
    "herb = Person.create(name='Herb', birthday=date(1950, 5, 5), is_relative=False)\n",
    "bob_kitty = Pet.create(owner=uncle_bob, name='Kitty', animal_type='cat')\n",
    "herb_fido = Pet.create(owner=herb, name='Fido', animal_type='dog')\n",
    "herb_mittens = Pet.create(owner=herb, name='Mittens', animal_type='cat')\n",
    "herb_mittens_jr = Pet.create(owner=herb, name='Mittens Jr', animal_type='cat')"
   ]
  },
  {
   "cell_type": "markdown",
   "metadata": {
    "ExecuteTime": {
     "start_time": "2016-05-12T13:30:40.441Z"
    },
    "collapsed": false
   },
   "source": [
    "### **These code below have been deprecated**\n",
    "\n",
    "```python\n",
    "from IPython.core.debugger import Tracer; set_trace = Tracer(colors='linux')\n",
    "\n",
    "Docstring = '''\n",
    "Database relative functional module\n",
    "'''\n",
    "\n",
    "import tools as tl\n",
    "import sqlite3\n",
    "from tools import cached_property\n",
    "\n",
    "\n",
    "def sqlexec(db, *sql_val):\n",
    "    cur = db.cursor()\n",
    "    cur.execute(*sql_val)\n",
    "    cur.close()\n",
    "    \n",
    "\n",
    "class ConfigDB(object):\n",
    "    @cached_property\n",
    "    def db(self):\n",
    "        print('connecting config.db')\n",
    "        return sqlite3.connect('config.db')\n",
    "    \n",
    "    @cached_property\n",
    "    def cur(self):\n",
    "        print('cursor been got')\n",
    "        return self.db.cursor()\n",
    "    \n",
    "    def __init__(self, func):\n",
    "        self.func = func\n",
    "        self.__dict__['__doc__'] = func.__doc__\n",
    "    \n",
    "    def __call__(self, **argv):\n",
    "        if 'verb' in argv:\n",
    "            verb = argv['verb']\n",
    "            not_closed = 'db' in self.__dict__ and 'cur' in self.__dict__\n",
    "            if verb == 'commit':\n",
    "                self.db.commit()\n",
    "            elif verb == 'close' and not_closed: \n",
    "                self.db.commit()\n",
    "                self.cur.close()\n",
    "                self.db.close()\n",
    "                del self.cur\n",
    "                del self.db\n",
    "            return\n",
    "        \n",
    "        sql = self.func(**argv)\n",
    "        cur = self.cur\n",
    "        excpt = False\n",
    "        if isinstance(sql, str):\n",
    "            cur.execute(sql)\n",
    "        elif isinstance(sql, tuple) and len(sql) == 2:\n",
    "            cur.execute(*sql)\n",
    "        else:\n",
    "            raise(ValueError('sql is not string or (string, values): %s'%sql))\n",
    "        return sql\n",
    "    \n",
    "    def __del__(self):\n",
    "        print('closing')\n",
    "        self.__call__(verb = 'close')\n",
    "    \n",
    "@ConfigDB    \n",
    "def add_config(sn, addr_info, regs_list, reg_names, info):\n",
    "    '''\n",
    "    def add_config(sn, addr_info, regs_list, reg_names, info):\n",
    "        ...\n",
    "        \n",
    "    sn: serial number of xstream\n",
    "    addr_info: ip@port or address@port\n",
    "    regs_list: list of registers, from small to large, split by comma(\",\"), eg: 10-20,25,30-32\n",
    "    reg_names: names of registers, like CO2, H2, Temp, CH4, ch_1, ch_2... numbers of names in reg_names and registers in reg_list MUST BE matched\n",
    "    info: some description, caption, infomation\n",
    "    '''    \n",
    "    \n",
    "    args_dict = locals()\n",
    "    addr, port = tl.get_addr_port(addr_info)\n",
    "    regs = tl.get_regs_list(regs_list)\n",
    "    names = tl.get_reg_names(reg_names)\n",
    "    \n",
    "    try:\n",
    "        assert(len(regs) == len(names))\n",
    "    except AssertionError as e:\n",
    "        print('numbers of names in reg_names and registers in reg_list MUST BE matched')\n",
    "        print('regs num: %d, names num: %d'% (len(regs), len(names)))\n",
    "        raise(tl.PrintColorfulTraceBack)\n",
    "        \n",
    "    sql = ('INSERT INTO config(%s,%s,%s,%s,%s) VALUES(?,?,?,?,?)'%tuple(args_dict.keys()), list(args_dict.values()))\n",
    "    return sql\n",
    "\n",
    "@ConfigDB\n",
    "def del_config(sn):\n",
    "    pass\n",
    "```"
   ]
  },
  {
   "cell_type": "markdown",
   "metadata": {},
   "source": []
  },
  {
   "cell_type": "code",
   "execution_count": null,
   "metadata": {
    "collapsed": true
   },
   "outputs": [],
   "source": []
  }
 ],
 "metadata": {
  "kernelspec": {
   "display_name": "Python 3",
   "language": "python",
   "name": "python3"
  },
  "language_info": {
   "codemirror_mode": {
    "name": "ipython",
    "version": 3
   },
   "file_extension": ".py",
   "mimetype": "text/x-python",
   "name": "python",
   "nbconvert_exporter": "python",
   "pygments_lexer": "ipython3",
   "version": "3.5.1+"
  }
 },
 "nbformat": 4,
 "nbformat_minor": 0
}
